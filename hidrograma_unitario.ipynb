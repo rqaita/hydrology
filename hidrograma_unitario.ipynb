{
 "cells": [
  {
   "cell_type": "markdown",
   "id": "b0dcda2f-cce1-4627-a22a-f15b467b8976",
   "metadata": {},
   "source": [
    "# Parte 2 - Hidrograma Unitário"
   ]
  },
  {
   "cell_type": "markdown",
   "id": "e741b83f-fe04-4056-9296-379d49387477",
   "metadata": {},
   "source": [
    "## Definições preliminares"
   ]
  },
  {
   "cell_type": "code",
   "execution_count": 1,
   "id": "5af01bc7-7dca-414d-aa0a-2de43dd8a668",
   "metadata": {},
   "outputs": [],
   "source": [
    "import numpy as np\n",
    "import pandas as pd\n",
    "import scipy.integrate as integrate"
   ]
  },
  {
   "cell_type": "markdown",
   "id": "d76b1517-4f60-487a-982b-58cb8bf4ae80",
   "metadata": {},
   "source": [
    "### Núcleo do hidrograma\n",
    "\n",
    "$$ \\mu(t-\\tau) = \\frac{1}{K} e^{\\frac{-t}{K}} $$"
   ]
  },
  {
   "cell_type": "code",
   "execution_count": 2,
   "id": "06dcd00a-a51e-4a2a-a5ec-d68c0e49d8e6",
   "metadata": {},
   "outputs": [],
   "source": [
    "mu = lambda tau, t, K : np.e**(-(t-tau)/K) / K"
   ]
  },
  {
   "cell_type": "code",
   "execution_count": 45,
   "id": "5b0ffe24-5168-443b-8ed5-18b86d2189ec",
   "metadata": {},
   "outputs": [],
   "source": [
    "def calc_hu(t, K, P):\n",
    "    \"\"\"Calcula o hidrograma unitário de uma bacia, cujo\n",
    "    núcleo é dado por exp(-t/K) / K\n",
    "    \n",
    "    Entrada\n",
    "    -------\n",
    "        t : lista com as t ordenadas temporais NÃO começando em 0\n",
    "            Dt deve ser unitário (passo de uma hora)\n",
    "        K : parâmetro do modelo\n",
    "        P : lista com as precipitações correspondentes a t\n",
    "    \n",
    "    Retorno\n",
    "    -------\n",
    "        hidrograma : DataFrame com índice t e colunas HU [1/h] e Q [mm/h]    \n",
    "    \n",
    "    \"\"\"\n",
    "    # variáveis auxiliares\n",
    "    Q = []  # lista com ordenadas do hidrograma\n",
    "    HU = []  # lista com ordenadas do HU\n",
    "    t = [t[0] - 1] + t  # adicionando \n",
    "\n",
    "    # para todos os instantes de tempo\n",
    "    for i in range(1, len(t)):\n",
    "        q = 0  # vazão no instante i\n",
    "#         hu_ac = 0  # ordenada acumulada do HU para P unitário\n",
    "\n",
    "        for j in range(i):  # para todos os instantes até i\n",
    "            hu = integrate.quad(mu, t[j], t[j+1], args=(t[i], K))[0]\n",
    "            q += hu * P[j]  # mm/h\n",
    "#             hu_ac += hu \n",
    "\n",
    "        # armazenamento do valor\n",
    "        Q.append(round(q,2))\n",
    "        HU.append(hu)\n",
    "\n",
    "    # organização da saída\n",
    "    hidrograma = pd.DataFrame(\n",
    "        data={\"t\": t[1:], \"HU\": HU, \"Q\": Q},\n",
    "    )\n",
    "    hidrograma = hidrograma.set_index(\"t\")\n",
    "    \n",
    "    return hidrograma"
   ]
  },
  {
   "cell_type": "markdown",
   "id": "3e7e0e84-d3ee-4a3f-afcb-0899147533e2",
   "metadata": {},
   "source": [
    "## Questão 1 (Exemplo 4.4, adaptado de TUCCI, 2005)\n",
    "O HUI de uma bacia hidrográfica é dado por: $$ \\mu(t) = \\dfrac{e^{\\frac{-t}{2}}}{2}. $$\n",
    "Determinar a vazão para $t$ = 1h, $t$ = 2h e $t$ = 3h devido a uma precipitação efetiva com:\n",
    "\n",
    "* intensidade constante de 12 mm/h para o intervalo [0, 2h];"
   ]
  },
  {
   "cell_type": "code",
   "execution_count": 38,
   "id": "95d39250-875e-4d21-b2b9-9c1af81be55b",
   "metadata": {},
   "outputs": [],
   "source": [
    "K = 2  # parâmetro do modelo\n",
    "t = [1, 2, 3]  # tempo\n",
    "P = [12, 12, 0]  # precipitação"
   ]
  },
  {
   "cell_type": "code",
   "execution_count": 39,
   "id": "4e64a2aa-a397-4ff7-8c31-336cfa6cb608",
   "metadata": {},
   "outputs": [
    {
     "data": {
      "text/html": [
       "<div>\n",
       "<style scoped>\n",
       "    .dataframe tbody tr th:only-of-type {\n",
       "        vertical-align: middle;\n",
       "    }\n",
       "\n",
       "    .dataframe tbody tr th {\n",
       "        vertical-align: top;\n",
       "    }\n",
       "\n",
       "    .dataframe thead th {\n",
       "        text-align: right;\n",
       "    }\n",
       "</style>\n",
       "<table border=\"1\" class=\"dataframe\">\n",
       "  <thead>\n",
       "    <tr style=\"text-align: right;\">\n",
       "      <th></th>\n",
       "      <th>Q</th>\n",
       "    </tr>\n",
       "    <tr>\n",
       "      <th>t</th>\n",
       "      <th></th>\n",
       "    </tr>\n",
       "  </thead>\n",
       "  <tbody>\n",
       "    <tr>\n",
       "      <th>1</th>\n",
       "      <td>4.72</td>\n",
       "    </tr>\n",
       "    <tr>\n",
       "      <th>2</th>\n",
       "      <td>7.59</td>\n",
       "    </tr>\n",
       "    <tr>\n",
       "      <th>3</th>\n",
       "      <td>4.60</td>\n",
       "    </tr>\n",
       "  </tbody>\n",
       "</table>\n",
       "</div>"
      ],
      "text/plain": [
       "      Q\n",
       "t      \n",
       "1  4.72\n",
       "2  7.59\n",
       "3  4.60"
      ]
     },
     "execution_count": 39,
     "metadata": {},
     "output_type": "execute_result"
    }
   ],
   "source": [
    "hu = calc_hu(t, K, P)\n",
    "hu = hu.drop(labels=\"HU\", axis=1)\n",
    "hu"
   ]
  },
  {
   "cell_type": "markdown",
   "id": "1e91a6ed-f17f-4d58-83e8-d16fe48e9a8a",
   "metadata": {},
   "source": [
    "* intensidades constantes de 10 mm/h para o intervalo [0, 1h], 8 mm/h para o intervalo (1h, 2h] e 6 mm/h para o intervalo (2h, 3h]."
   ]
  },
  {
   "cell_type": "code",
   "execution_count": 40,
   "id": "b4ffb524-7585-494d-b0f8-000af3e58af3",
   "metadata": {},
   "outputs": [],
   "source": [
    "P = [10, 8, 6]"
   ]
  },
  {
   "cell_type": "code",
   "execution_count": 41,
   "id": "144aebc3-7285-495a-addf-840df3480e95",
   "metadata": {},
   "outputs": [
    {
     "data": {
      "text/html": [
       "<div>\n",
       "<style scoped>\n",
       "    .dataframe tbody tr th:only-of-type {\n",
       "        vertical-align: middle;\n",
       "    }\n",
       "\n",
       "    .dataframe tbody tr th {\n",
       "        vertical-align: top;\n",
       "    }\n",
       "\n",
       "    .dataframe thead th {\n",
       "        text-align: right;\n",
       "    }\n",
       "</style>\n",
       "<table border=\"1\" class=\"dataframe\">\n",
       "  <thead>\n",
       "    <tr style=\"text-align: right;\">\n",
       "      <th></th>\n",
       "      <th>Q</th>\n",
       "    </tr>\n",
       "    <tr>\n",
       "      <th>t</th>\n",
       "      <th></th>\n",
       "    </tr>\n",
       "  </thead>\n",
       "  <tbody>\n",
       "    <tr>\n",
       "      <th>1</th>\n",
       "      <td>3.93</td>\n",
       "    </tr>\n",
       "    <tr>\n",
       "      <th>2</th>\n",
       "      <td>5.53</td>\n",
       "    </tr>\n",
       "    <tr>\n",
       "      <th>3</th>\n",
       "      <td>5.72</td>\n",
       "    </tr>\n",
       "  </tbody>\n",
       "</table>\n",
       "</div>"
      ],
      "text/plain": [
       "      Q\n",
       "t      \n",
       "1  3.93\n",
       "2  5.53\n",
       "3  5.72"
      ]
     },
     "execution_count": 41,
     "metadata": {},
     "output_type": "execute_result"
    }
   ],
   "source": [
    "hu = calc_hu(t, K, P)\n",
    "hu = hu.drop(labels=\"HU\", axis=1)\n",
    "hu"
   ]
  },
  {
   "cell_type": "markdown",
   "id": "8ebd9139-48a0-408f-840c-ca4dd6798d0d",
   "metadata": {},
   "source": [
    "## Questão 2 (Exemplo 4.6, adaptado de TUCCI, 2005).\n",
    "Dada a função núcleo:\n",
    "$$ \\mu(t) = \\dfrac{e^{\\frac{-t}{K}}}{K}, $$\n",
    "onde $K$ é uma constante, pede-se: \n",
    "\n",
    "* calcular a função HU, considerando período unitário ($\\Delta t$) = 2h e $K$ = 3h;"
   ]
  },
  {
   "cell_type": "code",
   "execution_count": 3,
   "id": "599c7a34-b8e2-4ce6-9e72-c0311eb64979",
   "metadata": {},
   "outputs": [],
   "source": [
    "K = 3"
   ]
  },
  {
   "cell_type": "markdown",
   "id": "90d84ad2-ae6a-43ef-ade4-d833e1e6845c",
   "metadata": {},
   "source": [
    "* determinar as ordenadas do HU para $t$ variando entre 1h e 20h com discretização temporal de 1h;"
   ]
  },
  {
   "cell_type": "code",
   "execution_count": 4,
   "id": "71482cb7-07f0-40ba-bc45-04e1388f9eb9",
   "metadata": {},
   "outputs": [],
   "source": [
    "t = [i for i in range(1, 21)]\n",
    "P = [1] * 20"
   ]
  },
  {
   "cell_type": "code",
   "execution_count": 5,
   "id": "a1d0bbdf-645d-453d-99e8-d284274a4245",
   "metadata": {},
   "outputs": [],
   "source": [
    "# variáveis auxiliares\n",
    "Q = []  # lista com ordenadas do hidrograma\n",
    "HU = []  # lista com ordenadas do HU\n",
    "t = [t[0] - 1] + t  # adicionando "
   ]
  },
  {
   "cell_type": "code",
   "execution_count": 18,
   "id": "c98044e2-b6ed-441b-95b4-657ccaee53ae",
   "metadata": {},
   "outputs": [
    {
     "ename": "ValueError",
     "evalue": "arrays must all be same length",
     "output_type": "error",
     "traceback": [
      "\u001b[0;31m---------------------------------------------------------------------------\u001b[0m",
      "\u001b[0;31mValueError\u001b[0m                                Traceback (most recent call last)",
      "\u001b[0;32m<ipython-input-18-858f0bef4be6>\u001b[0m in \u001b[0;36m<module>\u001b[0;34m\u001b[0m\n\u001b[1;32m     14\u001b[0m \u001b[0;34m\u001b[0m\u001b[0m\n\u001b[1;32m     15\u001b[0m \u001b[0;31m# organização da saída\u001b[0m\u001b[0;34m\u001b[0m\u001b[0;34m\u001b[0m\u001b[0;34m\u001b[0m\u001b[0m\n\u001b[0;32m---> 16\u001b[0;31m hidrograma = pd.DataFrame(\n\u001b[0m\u001b[1;32m     17\u001b[0m     \u001b[0mdata\u001b[0m\u001b[0;34m=\u001b[0m\u001b[0;34m{\u001b[0m\u001b[0;34m\"t\"\u001b[0m\u001b[0;34m:\u001b[0m \u001b[0mt\u001b[0m\u001b[0;34m[\u001b[0m\u001b[0;36m1\u001b[0m\u001b[0;34m:\u001b[0m\u001b[0;34m]\u001b[0m\u001b[0;34m,\u001b[0m \u001b[0;34m\"HU\"\u001b[0m\u001b[0;34m:\u001b[0m \u001b[0mHU\u001b[0m\u001b[0;34m,\u001b[0m \u001b[0;34m\"Q\"\u001b[0m\u001b[0;34m:\u001b[0m \u001b[0mQ\u001b[0m\u001b[0;34m}\u001b[0m\u001b[0;34m,\u001b[0m\u001b[0;34m\u001b[0m\u001b[0;34m\u001b[0m\u001b[0m\n\u001b[1;32m     18\u001b[0m )\n",
      "\u001b[0;32m~/opt/anaconda3/lib/python3.8/site-packages/pandas/core/frame.py\u001b[0m in \u001b[0;36m__init__\u001b[0;34m(self, data, index, columns, dtype, copy)\u001b[0m\n\u001b[1;32m    527\u001b[0m \u001b[0;34m\u001b[0m\u001b[0m\n\u001b[1;32m    528\u001b[0m         \u001b[0;32melif\u001b[0m \u001b[0misinstance\u001b[0m\u001b[0;34m(\u001b[0m\u001b[0mdata\u001b[0m\u001b[0;34m,\u001b[0m \u001b[0mdict\u001b[0m\u001b[0;34m)\u001b[0m\u001b[0;34m:\u001b[0m\u001b[0;34m\u001b[0m\u001b[0;34m\u001b[0m\u001b[0m\n\u001b[0;32m--> 529\u001b[0;31m             \u001b[0mmgr\u001b[0m \u001b[0;34m=\u001b[0m \u001b[0minit_dict\u001b[0m\u001b[0;34m(\u001b[0m\u001b[0mdata\u001b[0m\u001b[0;34m,\u001b[0m \u001b[0mindex\u001b[0m\u001b[0;34m,\u001b[0m \u001b[0mcolumns\u001b[0m\u001b[0;34m,\u001b[0m \u001b[0mdtype\u001b[0m\u001b[0;34m=\u001b[0m\u001b[0mdtype\u001b[0m\u001b[0;34m)\u001b[0m\u001b[0;34m\u001b[0m\u001b[0;34m\u001b[0m\u001b[0m\n\u001b[0m\u001b[1;32m    530\u001b[0m         \u001b[0;32melif\u001b[0m \u001b[0misinstance\u001b[0m\u001b[0;34m(\u001b[0m\u001b[0mdata\u001b[0m\u001b[0;34m,\u001b[0m \u001b[0mma\u001b[0m\u001b[0;34m.\u001b[0m\u001b[0mMaskedArray\u001b[0m\u001b[0;34m)\u001b[0m\u001b[0;34m:\u001b[0m\u001b[0;34m\u001b[0m\u001b[0;34m\u001b[0m\u001b[0m\n\u001b[1;32m    531\u001b[0m             \u001b[0;32mimport\u001b[0m \u001b[0mnumpy\u001b[0m\u001b[0;34m.\u001b[0m\u001b[0mma\u001b[0m\u001b[0;34m.\u001b[0m\u001b[0mmrecords\u001b[0m \u001b[0;32mas\u001b[0m \u001b[0mmrecords\u001b[0m\u001b[0;34m\u001b[0m\u001b[0;34m\u001b[0m\u001b[0m\n",
      "\u001b[0;32m~/opt/anaconda3/lib/python3.8/site-packages/pandas/core/internals/construction.py\u001b[0m in \u001b[0;36minit_dict\u001b[0;34m(data, index, columns, dtype)\u001b[0m\n\u001b[1;32m    285\u001b[0m             \u001b[0marr\u001b[0m \u001b[0;32mif\u001b[0m \u001b[0;32mnot\u001b[0m \u001b[0mis_datetime64tz_dtype\u001b[0m\u001b[0;34m(\u001b[0m\u001b[0marr\u001b[0m\u001b[0;34m)\u001b[0m \u001b[0;32melse\u001b[0m \u001b[0marr\u001b[0m\u001b[0;34m.\u001b[0m\u001b[0mcopy\u001b[0m\u001b[0;34m(\u001b[0m\u001b[0;34m)\u001b[0m \u001b[0;32mfor\u001b[0m \u001b[0marr\u001b[0m \u001b[0;32min\u001b[0m \u001b[0marrays\u001b[0m\u001b[0;34m\u001b[0m\u001b[0;34m\u001b[0m\u001b[0m\n\u001b[1;32m    286\u001b[0m         ]\n\u001b[0;32m--> 287\u001b[0;31m     \u001b[0;32mreturn\u001b[0m \u001b[0marrays_to_mgr\u001b[0m\u001b[0;34m(\u001b[0m\u001b[0marrays\u001b[0m\u001b[0;34m,\u001b[0m \u001b[0mdata_names\u001b[0m\u001b[0;34m,\u001b[0m \u001b[0mindex\u001b[0m\u001b[0;34m,\u001b[0m \u001b[0mcolumns\u001b[0m\u001b[0;34m,\u001b[0m \u001b[0mdtype\u001b[0m\u001b[0;34m=\u001b[0m\u001b[0mdtype\u001b[0m\u001b[0;34m)\u001b[0m\u001b[0;34m\u001b[0m\u001b[0;34m\u001b[0m\u001b[0m\n\u001b[0m\u001b[1;32m    288\u001b[0m \u001b[0;34m\u001b[0m\u001b[0m\n\u001b[1;32m    289\u001b[0m \u001b[0;34m\u001b[0m\u001b[0m\n",
      "\u001b[0;32m~/opt/anaconda3/lib/python3.8/site-packages/pandas/core/internals/construction.py\u001b[0m in \u001b[0;36marrays_to_mgr\u001b[0;34m(arrays, arr_names, index, columns, dtype, verify_integrity)\u001b[0m\n\u001b[1;32m     78\u001b[0m         \u001b[0;31m# figure out the index, if necessary\u001b[0m\u001b[0;34m\u001b[0m\u001b[0;34m\u001b[0m\u001b[0;34m\u001b[0m\u001b[0m\n\u001b[1;32m     79\u001b[0m         \u001b[0;32mif\u001b[0m \u001b[0mindex\u001b[0m \u001b[0;32mis\u001b[0m \u001b[0;32mNone\u001b[0m\u001b[0;34m:\u001b[0m\u001b[0;34m\u001b[0m\u001b[0;34m\u001b[0m\u001b[0m\n\u001b[0;32m---> 80\u001b[0;31m             \u001b[0mindex\u001b[0m \u001b[0;34m=\u001b[0m \u001b[0mextract_index\u001b[0m\u001b[0;34m(\u001b[0m\u001b[0marrays\u001b[0m\u001b[0;34m)\u001b[0m\u001b[0;34m\u001b[0m\u001b[0;34m\u001b[0m\u001b[0m\n\u001b[0m\u001b[1;32m     81\u001b[0m         \u001b[0;32melse\u001b[0m\u001b[0;34m:\u001b[0m\u001b[0;34m\u001b[0m\u001b[0;34m\u001b[0m\u001b[0m\n\u001b[1;32m     82\u001b[0m             \u001b[0mindex\u001b[0m \u001b[0;34m=\u001b[0m \u001b[0mensure_index\u001b[0m\u001b[0;34m(\u001b[0m\u001b[0mindex\u001b[0m\u001b[0;34m)\u001b[0m\u001b[0;34m\u001b[0m\u001b[0;34m\u001b[0m\u001b[0m\n",
      "\u001b[0;32m~/opt/anaconda3/lib/python3.8/site-packages/pandas/core/internals/construction.py\u001b[0m in \u001b[0;36mextract_index\u001b[0;34m(data)\u001b[0m\n\u001b[1;32m    399\u001b[0m             \u001b[0mlengths\u001b[0m \u001b[0;34m=\u001b[0m \u001b[0mlist\u001b[0m\u001b[0;34m(\u001b[0m\u001b[0mset\u001b[0m\u001b[0;34m(\u001b[0m\u001b[0mraw_lengths\u001b[0m\u001b[0;34m)\u001b[0m\u001b[0;34m)\u001b[0m\u001b[0;34m\u001b[0m\u001b[0;34m\u001b[0m\u001b[0m\n\u001b[1;32m    400\u001b[0m             \u001b[0;32mif\u001b[0m \u001b[0mlen\u001b[0m\u001b[0;34m(\u001b[0m\u001b[0mlengths\u001b[0m\u001b[0;34m)\u001b[0m \u001b[0;34m>\u001b[0m \u001b[0;36m1\u001b[0m\u001b[0;34m:\u001b[0m\u001b[0;34m\u001b[0m\u001b[0;34m\u001b[0m\u001b[0m\n\u001b[0;32m--> 401\u001b[0;31m                 \u001b[0;32mraise\u001b[0m \u001b[0mValueError\u001b[0m\u001b[0;34m(\u001b[0m\u001b[0;34m\"arrays must all be same length\"\u001b[0m\u001b[0;34m)\u001b[0m\u001b[0;34m\u001b[0m\u001b[0;34m\u001b[0m\u001b[0m\n\u001b[0m\u001b[1;32m    402\u001b[0m \u001b[0;34m\u001b[0m\u001b[0m\n\u001b[1;32m    403\u001b[0m             \u001b[0;32mif\u001b[0m \u001b[0mhave_dicts\u001b[0m\u001b[0;34m:\u001b[0m\u001b[0;34m\u001b[0m\u001b[0;34m\u001b[0m\u001b[0m\n",
      "\u001b[0;31mValueError\u001b[0m: arrays must all be same length"
     ]
    }
   ],
   "source": [
    "# para todos os instantes de tempo\n",
    "for i in range(1, len(t)):\n",
    "    q = 0  # vazão no instante i\n",
    "    hu_ac = 0\n",
    "\n",
    "    for j in range(i):  # para todos os instantes até i\n",
    "        hu = integrate.quad(mu, t[j], t[j+1], args=(t[i], K))[0]\n",
    "        q += hu * P_atual[j]  # mm/h\n",
    "        hu_ac += hu\n",
    "\n",
    "    # armazenamento do valor\n",
    "    Q.append(round(q,2))\n",
    "    HU.append(hu_ac)\n",
    "\n",
    "# organização da saída\n",
    "hidrograma = pd.DataFrame(\n",
    "    data={\"t\": t[1:], \"HU\": HU, \"Q\": Q},\n",
    ")\n",
    "hidrograma = hidrograma.set_index(\"t\")"
   ]
  },
  {
   "cell_type": "code",
   "execution_count": 49,
   "id": "c6d75425-71f8-47f6-b721-8578564b4858",
   "metadata": {},
   "outputs": [
    {
     "data": {
      "text/html": [
       "<div>\n",
       "<style scoped>\n",
       "    .dataframe tbody tr th:only-of-type {\n",
       "        vertical-align: middle;\n",
       "    }\n",
       "\n",
       "    .dataframe tbody tr th {\n",
       "        vertical-align: top;\n",
       "    }\n",
       "\n",
       "    .dataframe thead th {\n",
       "        text-align: right;\n",
       "    }\n",
       "</style>\n",
       "<table border=\"1\" class=\"dataframe\">\n",
       "  <thead>\n",
       "    <tr style=\"text-align: right;\">\n",
       "      <th></th>\n",
       "      <th>Q</th>\n",
       "    </tr>\n",
       "    <tr>\n",
       "      <th>t</th>\n",
       "      <th></th>\n",
       "    </tr>\n",
       "  </thead>\n",
       "  <tbody>\n",
       "    <tr>\n",
       "      <th>1</th>\n",
       "      <td>0.28</td>\n",
       "    </tr>\n",
       "    <tr>\n",
       "      <th>2</th>\n",
       "      <td>0.49</td>\n",
       "    </tr>\n",
       "    <tr>\n",
       "      <th>3</th>\n",
       "      <td>0.63</td>\n",
       "    </tr>\n",
       "    <tr>\n",
       "      <th>4</th>\n",
       "      <td>0.74</td>\n",
       "    </tr>\n",
       "    <tr>\n",
       "      <th>5</th>\n",
       "      <td>0.81</td>\n",
       "    </tr>\n",
       "    <tr>\n",
       "      <th>6</th>\n",
       "      <td>0.86</td>\n",
       "    </tr>\n",
       "    <tr>\n",
       "      <th>7</th>\n",
       "      <td>0.90</td>\n",
       "    </tr>\n",
       "    <tr>\n",
       "      <th>8</th>\n",
       "      <td>0.93</td>\n",
       "    </tr>\n",
       "    <tr>\n",
       "      <th>9</th>\n",
       "      <td>0.95</td>\n",
       "    </tr>\n",
       "    <tr>\n",
       "      <th>10</th>\n",
       "      <td>0.96</td>\n",
       "    </tr>\n",
       "    <tr>\n",
       "      <th>11</th>\n",
       "      <td>0.97</td>\n",
       "    </tr>\n",
       "    <tr>\n",
       "      <th>12</th>\n",
       "      <td>0.98</td>\n",
       "    </tr>\n",
       "    <tr>\n",
       "      <th>13</th>\n",
       "      <td>0.99</td>\n",
       "    </tr>\n",
       "    <tr>\n",
       "      <th>14</th>\n",
       "      <td>0.99</td>\n",
       "    </tr>\n",
       "    <tr>\n",
       "      <th>15</th>\n",
       "      <td>0.99</td>\n",
       "    </tr>\n",
       "    <tr>\n",
       "      <th>16</th>\n",
       "      <td>1.00</td>\n",
       "    </tr>\n",
       "    <tr>\n",
       "      <th>17</th>\n",
       "      <td>1.00</td>\n",
       "    </tr>\n",
       "    <tr>\n",
       "      <th>18</th>\n",
       "      <td>1.00</td>\n",
       "    </tr>\n",
       "    <tr>\n",
       "      <th>19</th>\n",
       "      <td>1.00</td>\n",
       "    </tr>\n",
       "    <tr>\n",
       "      <th>20</th>\n",
       "      <td>1.00</td>\n",
       "    </tr>\n",
       "  </tbody>\n",
       "</table>\n",
       "</div>"
      ],
      "text/plain": [
       "       Q\n",
       "t       \n",
       "1   0.28\n",
       "2   0.49\n",
       "3   0.63\n",
       "4   0.74\n",
       "5   0.81\n",
       "6   0.86\n",
       "7   0.90\n",
       "8   0.93\n",
       "9   0.95\n",
       "10  0.96\n",
       "11  0.97\n",
       "12  0.98\n",
       "13  0.99\n",
       "14  0.99\n",
       "15  0.99\n",
       "16  1.00\n",
       "17  1.00\n",
       "18  1.00\n",
       "19  1.00\n",
       "20  1.00"
      ]
     },
     "execution_count": 49,
     "metadata": {},
     "output_type": "execute_result"
    }
   ],
   "source": [
    "hu = calc_hu(t, K, P)\n",
    "hu = hu.drop(labels=\"HU\", axis=1)\n",
    "hu"
   ]
  },
  {
   "cell_type": "markdown",
   "id": "9b8655d1-096b-47f6-bcfc-09b93b7928a6",
   "metadata": {},
   "source": [
    "* verificar se a soma das ordenadas do HU, calculadas no item anterior, converge para o volume unitário."
   ]
  },
  {
   "cell_type": "code",
   "execution_count": 3,
   "id": "1033d55c-d41a-485e-8f05-284db82ceb9b",
   "metadata": {},
   "outputs": [],
   "source": [
    "import matplotlib.pyplot as plt"
   ]
  },
  {
   "cell_type": "code",
   "execution_count": 5,
   "id": "e8309ace-74ec-45c4-8ebe-68cc52a78a50",
   "metadata": {},
   "outputs": [],
   "source": [
    "k1 = [\n",
    "    0,\n",
    "    0.31606028,\n",
    "    0.43233236,\n",
    "    0.15904619,\n",
    "    0.05850982,\n",
    "    0.02152456,\n",
    "    0.00791844,\n",
    "    0.00291303,\n",
    "    0.00107164,\n",
    "    0.00039424,\n",
    "    0.00014503,\n",
    "    0.00005335,\n",
    "    0.00001963,\n",
    "    0.00000722,\n",
    "    0.00000266,\n",
    "    0.00000098,\n",
    "    0.00000036,\n",
    "    0.00000013,\n",
    "    0.00000005,\n",
    "    0.00000002,\n",
    "    0.00000001,\n",
    "]\n",
    "\n",
    "k2 = [\n",
    "    0,\n",
    "    0.19673467,\n",
    "    0.31606028,\n",
    "    0.19170025,\n",
    "    0.11627208,\n",
    "    0.07052258,\n",
    "    0.04277411,\n",
    "    0.02594381,\n",
    "    0.01573571,\n",
    "    0.00954419,\n",
    "    0.00578885,\n",
    "    0.00351111,\n",
    "    0.00212960,\n",
    "    0.00129167,\n",
    "    0.00078344,\n",
    "    0.00047518,\n",
    "    0.00028821,\n",
    "    0.00017481,\n",
    "    0.00010603,\n",
    "    0.00006431,\n",
    "    0.00003900,\n",
    "]\n",
    "\n",
    "k3 = [\n",
    "    0,\n",
    "    0.14173434,\n",
    "    0.24329144,\n",
    "    0.17432593,\n",
    "    0.12490999,\n",
    "    0.08950192,\n",
    "    0.06413093,\n",
    "    0.04595182,\n",
    "    0.03292592,\n",
    "    0.02359245,\n",
    "    0.01690473,\n",
    "    0.01211277,\n",
    "    0.00867918,\n",
    "    0.00621890,\n",
    "    0.00445604,\n",
    "    0.00319289,\n",
    "    0.00228781,\n",
    "    0.00163928,\n",
    "    0.00117460,\n",
    "    0.00084164,\n",
    "    0.00060306,\n",
    "]\n",
    "\n",
    "k5 = [\n",
    "    0,\n",
    "    0.09063462,\n",
    "    0.16483998,\n",
    "    0.13495956,\n",
    "    0.11049554,\n",
    "    0.09046610,\n",
    "    0.07406738,\n",
    "    0.06064124,\n",
    "    0.04964885,\n",
    "    0.04064904,\n",
    "    0.03328062,\n",
    "    0.02724786,\n",
    "    0.02230866,\n",
    "    0.01826479,\n",
    "    0.01495395,\n",
    "    0.01224325,\n",
    "    0.01002393,\n",
    "    0.00820690,\n",
    "    0.00671924,\n",
    "    0.00550125,\n",
    "    0.00450404,\n",
    "]"
   ]
  },
  {
   "cell_type": "code",
   "execution_count": 7,
   "id": "860226fe-2533-431e-abcc-7e6c2c767c20",
   "metadata": {},
   "outputs": [
    {
     "data": {
      "image/png": "[encoded data removed]",
      "text/plain": [
       "<Figure size 432x288 with 1 Axes>"
      ]
     },
     "metadata": {
      "needs_background": "light"
     },
     "output_type": "display_data"
    }
   ],
   "source": [
    "plt.plot(range(0,21), k1, \"--o\", label=\"K = 1\")\n",
    "plt.plot(range(0,21), k2, \"--s\", label=\"K = 2\")\n",
    "plt.plot(range(0,21), k3, \"--h\", label=\"K = 3\")\n",
    "plt.plot(range(0,21), k5, \"--^\", label=\"K = 5\")\n",
    "plt.xlabel(\"Tempo (h)\")\n",
    "plt.xticks(range(0,21,2))\n",
    "plt.ylabel(\"HU (1/h)\")\n",
    "plt.legend()\n",
    "plt.tight_layout()\n",
    "plt.savefig(\"lista_2_ex3.png\", format=\"png\", dpi=300)\n",
    "plt.show()"
   ]
  }
 ],
 "metadata": {
  "kernelspec": {
   "display_name": "Python 3 (ipykernel)",
   "language": "python",
   "name": "python3"
  },
  "language_info": {
   "codemirror_mode": {
    "name": "ipython",
    "version": 3
   },
   "file_extension": ".py",
   "mimetype": "text/x-python",
   "name": "python",
   "nbconvert_exporter": "python",
   "pygments_lexer": "ipython3",
   "version": "3.9.7"
  }
 },
 "nbformat": 4,
 "nbformat_minor": 5
}
