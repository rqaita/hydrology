{
 "cells": [
  {
   "cell_type": "code",
   "execution_count": 1,
   "id": "b21d4e1f-8e19-4701-9c20-f3e364083572",
   "metadata": {},
   "outputs": [],
   "source": [
    "import sys\n",
    "sys.path.append(\"/Users/rq.aita/Scripts\")\n",
    "sys.path.append(\"/home/ufpr/Documentos/GitHub/scripts\")\n",
    "\n",
    "import pandas as pd\n",
    "import numpy as np\n",
    "import matplotlib.pyplot as plt\n",
    "\n",
    "import hydrology as hydro\n",
    "import settings_plot"
   ]
  },
  {
   "cell_type": "markdown",
   "id": "f3a9f5ab-c623-44a1-bc50-a170f54367c7",
   "metadata": {},
   "source": [
    "# Exercício 1"
   ]
  },
  {
   "cell_type": "markdown",
   "id": "f52e2be4-e951-49c7-9df6-63cb29b76d6c",
   "metadata": {},
   "source": [
    "Um teste com um infiltrômetro de 35 cm de diâmetro produziu os seguintes resultados: \n",
    "\n",
    "| t (minutos) | Volume total adicionado (cm³) |\n",
    "|-------------|-------------------------------|\n",
    "| 0           | 0                             |\n",
    "| 2           | 278                           |\n",
    "| 5           | 658                           |\n",
    "| 10          | 1.173                         |\n",
    "| 20          | 1.924                         |\n",
    "| 30          | 2.500                         |\n",
    "| 60          | 3.345                         |\n",
    "| 90          | 3.875                         |\n",
    "| 150         | 4.595                         |\n",
    "\n",
    "Pede-se traçar o gráfico f x t, onde f é a capacidade de infiltração dada em mm/h."
   ]
  },
  {
   "cell_type": "code",
   "execution_count": 7,
   "id": "df702cb0-ff94-46c4-ab46-da1b7bffdafb",
   "metadata": {},
   "outputs": [],
   "source": [
    "e_01_dados = {\n",
    "    \"t\" : [0, 2, 5, 10, 20, 30, 60, 90, 150],\n",
    "    \"v\" : [0, 278, 658, 1173, 1924, 2500, 3345, 3875, 4595],\n",
    "}\n",
    "e_01_dados = pd.DataFrame(e_01_dados)"
   ]
  },
  {
   "cell_type": "code",
   "execution_count": null,
   "id": "f9b1109f-2345-448b-80d2-58ff3374e9d6",
   "metadata": {},
   "outputs": [],
   "source": []
  }
 ],
 "metadata": {
  "kernelspec": {
   "display_name": "Python 3 (ipykernel)",
   "language": "python",
   "name": "python3"
  },
  "language_info": {
   "codemirror_mode": {
    "name": "ipython",
    "version": 3
   },
   "file_extension": ".py",
   "mimetype": "text/x-python",
   "name": "python",
   "nbconvert_exporter": "python",
   "pygments_lexer": "ipython3",
   "version": "3.9.7"
  }
 },
 "nbformat": 4,
 "nbformat_minor": 5
}
