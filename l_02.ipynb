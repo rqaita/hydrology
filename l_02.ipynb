{
 "cells": [
  {
   "cell_type": "code",
   "execution_count": 1,
   "id": "7ad13a06-93dc-427b-ba54-724511386b22",
   "metadata": {},
   "outputs": [],
   "source": [
    "import sys\n",
    "sys.path.append(\"/Users/rq.aita/Scripts\")\n",
    "sys.path.append(\"/home/ufpr/Documentos/GitHub/scripts\")\n",
    "\n",
    "import pandas as pd\n",
    "import numpy as np\n",
    "import matplotlib.pyplot as plt\n",
    "\n",
    "import hydrology as hydro\n",
    "import settings_plot"
   ]
  },
  {
   "cell_type": "markdown",
   "id": "0796f227-65fa-4910-b0ca-7dcfaa138065",
   "metadata": {
    "tags": []
   },
   "source": [
    "# Exercício 1"
   ]
  },
  {
   "cell_type": "markdown",
   "id": "cf8e328a-62e7-4bef-aa67-0af4b2f58047",
   "metadata": {},
   "source": [
    "Na tabela a seguir, são apresentados os registros dos totais anuais de precipitação em duas estações próximas, X e Y, no período 1943-76. Deseja-se utilizar esses dados para efetuar o balanço hídrico em nível anual na região em que estão localizadas as estações. Solicita-se efetuar o preenchimento de todos os valores não disponíveis no período mediante regressão linear (exercício extraído de Tucci, 1997)."
   ]
  },
  {
   "cell_type": "markdown",
   "id": "6c2724bc-bebf-4a2b-9a8d-d7de6892f18c",
   "metadata": {},
   "source": [
    "| Ano  | X (mm) | Y (mm) | Ano  | X (mm) | Y (mm) |\n",
    "|------|--------|--------|------|--------|--------|\n",
    "| 1943 |        | 1497   | 1960 | 1656   |        |\n",
    "| 1944 |        | 1243   | 1961 | 2167   | 1678   |\n",
    "| 1945 |        | 1359   | 1962 |        | 2048   |\n",
    "| 1946 | 1505   | 1493   | 1963 | 1981   | 1771   |\n",
    "| 1947 | 1634   | 1559   | 1964 | 1551   | 1191   |\n",
    "| 1948 | 1775   | 1671   | 1965 | 1781   | 1572   |\n",
    "| 1949 | 1421   | 1533   | 1966 | 1965   | 1666   |\n",
    "| 1950 | 1619   |        | 1967 | 1342   | 1012   |\n",
    "| 1951 | 1304   | 1214   | 1968 | 841    | 1064   |\n",
    "| 1952 | 1640   | 1384   | 1969 | 1205   | 1349   |\n",
    "| 1953 | 1569   |        | 1970 | 1287   | 1541   |\n",
    "| 1954 | 2209   | 2158   | 1971 | 1509   | 1539   |\n",
    "| 1955 | 1393   | 1371   | 1972 | 1664   |        |\n",
    "| 1956 |        | 2035   | 1973 | 2021   |        |\n",
    "| 1957 | 2090   | 2229   | 1974 | 1906   |        |\n",
    "| 1958 | 2311   | 2189   | 1975 | 1776   |        |\n",
    "| 1959 | 1638   | 1553   | 1976 | 1925   |        |"
   ]
  },
  {
   "cell_type": "markdown",
   "id": "c5fc32b5-ddef-4785-9b0f-be42e12f10cb",
   "metadata": {
    "tags": []
   },
   "source": [
    "# Resolução"
   ]
  },
  {
   "cell_type": "markdown",
   "id": "2d7ee07f-cddf-4624-a106-82b4597ff8f2",
   "metadata": {
    "tags": []
   },
   "source": [
    "### Entrada"
   ]
  },
  {
   "cell_type": "code",
   "execution_count": 2,
   "id": "cff2d077-f893-4dec-a7bd-77fc8bfae115",
   "metadata": {},
   "outputs": [],
   "source": [
    "e_01_data = pd.read_excel(\"files/l_02_01.xlsx\", index_col=\"Ano\")\n",
    "\n",
    "# Período em comum das estações\n",
    "e_01_data_comum = e_01_data[~e_01_data.isnull().any(axis=1)]\n",
    "\n",
    "# Anos com falha em X ou Y\n",
    "e_01_falha_y = e_01_data[\"X (mm)\"][e_01_data[\"Y (mm)\"].isnull()]\n",
    "e_01_falha_x = e_01_data[\"Y (mm)\"][e_01_data[\"X (mm)\"].isnull()]"
   ]
  },
  {
   "cell_type": "markdown",
   "id": "b7b1d7c8-b695-4d41-95c4-79772254636e",
   "metadata": {
    "tags": []
   },
   "source": [
    "### Ajuste para preenchimento de Y"
   ]
  },
  {
   "cell_type": "markdown",
   "id": "f7d99052-1cbd-4063-b1bc-1f6840a45167",
   "metadata": {},
   "source": [
    "Regressão na forma $Y = a X + b$, com $a$ e $b$ estimados pelo método dos mínimos quadrados"
   ]
  },
  {
   "cell_type": "code",
   "execution_count": 3,
   "id": "8ac8b678-745e-4dfd-b08a-cdbab8a41803",
   "metadata": {},
   "outputs": [
    {
     "name": "stdout",
     "output_type": "stream",
     "text": [
      "R2 = 0.724\n",
      "Ajuste obtido: Y = 0.752 X +  321.852\n"
     ]
    }
   ],
   "source": [
    "e_01_x = e_01_data_comum[\"X (mm)\"].to_numpy()\n",
    "e_01_y = e_01_data_comum[\"Y (mm)\"].to_numpy()\n",
    "\n",
    "e_01_ay, e_01_by, _ = hydro.reg_linear(e_01_x, e_01_y)"
   ]
  },
  {
   "cell_type": "code",
   "execution_count": 4,
   "id": "74f3c11c-9d20-43bf-97dc-06b7091df1e4",
   "metadata": {},
   "outputs": [
    {
     "data": {
      "text/html": [
       "<div>\n",
       "<style scoped>\n",
       "    .dataframe tbody tr th:only-of-type {\n",
       "        vertical-align: middle;\n",
       "    }\n",
       "\n",
       "    .dataframe tbody tr th {\n",
       "        vertical-align: top;\n",
       "    }\n",
       "\n",
       "    .dataframe thead th {\n",
       "        text-align: right;\n",
       "    }\n",
       "</style>\n",
       "<table border=\"1\" class=\"dataframe\">\n",
       "  <thead>\n",
       "    <tr style=\"text-align: right;\">\n",
       "      <th></th>\n",
       "      <th>X (mm)</th>\n",
       "      <th>Y (mm)</th>\n",
       "    </tr>\n",
       "    <tr>\n",
       "      <th>Ano</th>\n",
       "      <th></th>\n",
       "      <th></th>\n",
       "    </tr>\n",
       "  </thead>\n",
       "  <tbody>\n",
       "    <tr>\n",
       "      <th>1950</th>\n",
       "      <td>1619.0</td>\n",
       "      <td>1539.0</td>\n",
       "    </tr>\n",
       "    <tr>\n",
       "      <th>1953</th>\n",
       "      <td>1569.0</td>\n",
       "      <td>1502.0</td>\n",
       "    </tr>\n",
       "    <tr>\n",
       "      <th>1960</th>\n",
       "      <td>1656.0</td>\n",
       "      <td>1567.0</td>\n",
       "    </tr>\n",
       "    <tr>\n",
       "      <th>1972</th>\n",
       "      <td>1664.0</td>\n",
       "      <td>1573.0</td>\n",
       "    </tr>\n",
       "    <tr>\n",
       "      <th>1973</th>\n",
       "      <td>2021.0</td>\n",
       "      <td>1841.0</td>\n",
       "    </tr>\n",
       "    <tr>\n",
       "      <th>1974</th>\n",
       "      <td>1906.0</td>\n",
       "      <td>1755.0</td>\n",
       "    </tr>\n",
       "    <tr>\n",
       "      <th>1975</th>\n",
       "      <td>1776.0</td>\n",
       "      <td>1657.0</td>\n",
       "    </tr>\n",
       "    <tr>\n",
       "      <th>1976</th>\n",
       "      <td>1925.0</td>\n",
       "      <td>1769.0</td>\n",
       "    </tr>\n",
       "  </tbody>\n",
       "</table>\n",
       "</div>"
      ],
      "text/plain": [
       "      X (mm)  Y (mm)\n",
       "Ano                 \n",
       "1950  1619.0  1539.0\n",
       "1953  1569.0  1502.0\n",
       "1960  1656.0  1567.0\n",
       "1972  1664.0  1573.0\n",
       "1973  2021.0  1841.0\n",
       "1974  1906.0  1755.0\n",
       "1975  1776.0  1657.0\n",
       "1976  1925.0  1769.0"
      ]
     },
     "execution_count": 4,
     "metadata": {},
     "output_type": "execute_result"
    }
   ],
   "source": [
    "e_01_prev_y = e_01_ay * e_01_falha_y + e_01_by\n",
    "e_01_prev_y = e_01_prev_y.rename(\"Y (mm)\")\n",
    "e_01_falha_y = pd.DataFrame(e_01_falha_y)\n",
    "e_01_falha_y[\"Y (mm)\"] = e_01_prev_y\n",
    "e_01_falha_y.round()"
   ]
  },
  {
   "cell_type": "markdown",
   "id": "4ec9cb09-96f8-4c7b-9372-69f063fe7431",
   "metadata": {
    "tags": []
   },
   "source": [
    "### Ajuste para preenchimento de X"
   ]
  },
  {
   "cell_type": "markdown",
   "id": "a939413a-1bf8-4a9a-9f3c-2db6801c1af6",
   "metadata": {},
   "source": [
    "Regressão na forma $X = a Y + b$, com $a$ e $b$ estimados pelo método dos mínimos quadrados"
   ]
  },
  {
   "cell_type": "code",
   "execution_count": 5,
   "id": "7850f551-bca3-4432-840c-ea9ca21dbe7a",
   "metadata": {},
   "outputs": [
    {
     "name": "stdout",
     "output_type": "stream",
     "text": [
      "R2 = 0.724\n",
      "Ajuste obtido: Y = 0.963 X +  144.361\n"
     ]
    }
   ],
   "source": [
    "e_01_ax, e_01_bx, _ = hydro.reg_linear(e_01_y, e_01_x)"
   ]
  },
  {
   "cell_type": "code",
   "execution_count": 6,
   "id": "a6130613-bf00-47cf-8e79-4a1f5ce3f6e6",
   "metadata": {
    "tags": []
   },
   "outputs": [
    {
     "data": {
      "text/html": [
       "<div>\n",
       "<style scoped>\n",
       "    .dataframe tbody tr th:only-of-type {\n",
       "        vertical-align: middle;\n",
       "    }\n",
       "\n",
       "    .dataframe tbody tr th {\n",
       "        vertical-align: top;\n",
       "    }\n",
       "\n",
       "    .dataframe thead th {\n",
       "        text-align: right;\n",
       "    }\n",
       "</style>\n",
       "<table border=\"1\" class=\"dataframe\">\n",
       "  <thead>\n",
       "    <tr style=\"text-align: right;\">\n",
       "      <th></th>\n",
       "      <th>Y (mm)</th>\n",
       "      <th>X (mm)</th>\n",
       "    </tr>\n",
       "    <tr>\n",
       "      <th>Ano</th>\n",
       "      <th></th>\n",
       "      <th></th>\n",
       "    </tr>\n",
       "  </thead>\n",
       "  <tbody>\n",
       "    <tr>\n",
       "      <th>1943</th>\n",
       "      <td>1497.0</td>\n",
       "      <td>1586.0</td>\n",
       "    </tr>\n",
       "    <tr>\n",
       "      <th>1944</th>\n",
       "      <td>1243.0</td>\n",
       "      <td>1341.0</td>\n",
       "    </tr>\n",
       "    <tr>\n",
       "      <th>1945</th>\n",
       "      <td>1359.0</td>\n",
       "      <td>1453.0</td>\n",
       "    </tr>\n",
       "    <tr>\n",
       "      <th>1956</th>\n",
       "      <td>2035.0</td>\n",
       "      <td>2104.0</td>\n",
       "    </tr>\n",
       "    <tr>\n",
       "      <th>1962</th>\n",
       "      <td>2048.0</td>\n",
       "      <td>2116.0</td>\n",
       "    </tr>\n",
       "  </tbody>\n",
       "</table>\n",
       "</div>"
      ],
      "text/plain": [
       "      Y (mm)  X (mm)\n",
       "Ano                 \n",
       "1943  1497.0  1586.0\n",
       "1944  1243.0  1341.0\n",
       "1945  1359.0  1453.0\n",
       "1956  2035.0  2104.0\n",
       "1962  2048.0  2116.0"
      ]
     },
     "execution_count": 6,
     "metadata": {},
     "output_type": "execute_result"
    }
   ],
   "source": [
    "e_01_prev_x = e_01_ax * e_01_falha_x + e_01_bx\n",
    "e_01_prev_x = e_01_prev_x.rename(\"X (mm)\")\n",
    "e_01_falha_x = pd.DataFrame(e_01_falha_x)\n",
    "e_01_falha_x[\"X (mm)\"] = e_01_prev_x\n",
    "e_01_falha_x.round()"
   ]
  },
  {
   "cell_type": "markdown",
   "id": "7b7c8106-3b82-4e3a-a3be-4bf38415a24e",
   "metadata": {
    "tags": []
   },
   "source": [
    "### Gráfico"
   ]
  },
  {
   "cell_type": "code",
   "execution_count": 7,
   "id": "87508430-3e5e-4424-b335-195202f69245",
   "metadata": {},
   "outputs": [
    {
     "data": {
      "image/png": "[encoded data removed]",
      "text/plain": [
       "<Figure size 900x600 with 1 Axes>"
      ]
     },
     "metadata": {
      "needs_background": "light"
     },
     "output_type": "display_data"
    }
   ],
   "source": [
    "xx = np.arange(e_01_data.min()[\"X (mm)\"], e_01_data.max()[\"X (mm)\"])\n",
    "yx = e_01_ay * xx + e_01_by\n",
    "\n",
    "yy = np.arange(e_01_data.min()[\"Y (mm)\"], e_01_data.max()[\"Y (mm)\"])\n",
    "xy = e_01_ax * yy + e_01_bx\n",
    "\n",
    "fig, ax = plt.subplots(constrained_layout=True)\n",
    "\n",
    "# Medições\n",
    "ax.scatter(e_01_x, e_01_y, label=\"Dados em comum\")\n",
    "\n",
    "# Ajuste\n",
    "ax.plot(xx, yx, label=\"Ajuste Y = f(X)\", color=\"gray\", linestyle=\"--\")\n",
    "ax.plot(xy, yy, label=\"Ajuste X = g(Y)\", color=\"gray\", linestyle=\"-.\")\n",
    "\n",
    "# Preenchimentos\n",
    "e_01_falha_x.plot.scatter(\n",
    "    x='X (mm)', y='Y (mm)', ax=ax, label=\"Ajuste X\", color=\"red\", marker=\"^\",\n",
    ")\n",
    "e_01_falha_y.plot.scatter(\n",
    "    x='X (mm)', y='Y (mm)', ax=ax, label=\"Ajuste Y\", color=\"purple\", marker=\"v\"\n",
    ")\n",
    "\n",
    "ax.legend()\n",
    "fig.savefig(\"figures/l_02_01.png\", format=\"png\", dpi=300)\n",
    "plt.show()"
   ]
  },
  {
   "cell_type": "code",
   "execution_count": 8,
   "id": "dea3954c-0ab5-4698-af4b-a2627e6f6bbe",
   "metadata": {},
   "outputs": [],
   "source": [
    "del xx, yx, xy, yy"
   ]
  },
  {
   "cell_type": "code",
   "execution_count": 9,
   "id": "84fd1241-4170-4ff2-ab6e-2689d445958d",
   "metadata": {},
   "outputs": [
    {
     "name": "stdout",
     "output_type": "stream",
     "text": [
      "Variable          Type           Data/Info\n",
      "------------------------------------------\n",
      "ax                AxesSubplot    AxesSubplot(0.113519,0.115279;0.879536x0.874304)\n",
      "e_01_ax           float64        0.9627461003357186\n",
      "e_01_ay           float64        0.751920775992454\n",
      "e_01_bx           float64        144.3609958718846\n",
      "e_01_by           float64        321.8518623922241\n",
      "e_01_data         DataFrame            X (mm)  Y (mm)\\nAno<...>NaN\\n1976  1925.0     NaN\n",
      "e_01_data_comum   DataFrame            X (mm)  Y (mm)\\nAno<...>1.0\\n1971  1509.0  1539.0\n",
      "e_01_falha_x      DataFrame            Y (mm)       X (mm)<...>1962  2048.0  2116.065009\n",
      "e_01_falha_y      DataFrame            X (mm)       Y (mm)<...>1976  1925.0  1769.299356\n",
      "e_01_prev_x       Series         Ano\\n1943    1585.591908\\<...>e: X (mm), dtype: float64\n",
      "e_01_prev_y       Series         Ano\\n1950    1539.211599\\<...>e: Y (mm), dtype: float64\n",
      "e_01_x            ndarray        21: 21 elems, type `float64`, 168 bytes\n",
      "e_01_y            ndarray        21: 21 elems, type `float64`, 168 bytes\n",
      "fig               Figure         Figure(900x600)\n",
      "hydro             module         <module 'hydrology' from <...>ub/scripts/hydrology.py'>\n",
      "np                module         <module 'numpy' from '/ho<...>kages/numpy/__init__.py'>\n",
      "pd                module         <module 'pandas' from '/h<...>ages/pandas/__init__.py'>\n",
      "plt               module         <module 'matplotlib.pyplo<...>es/matplotlib/pyplot.py'>\n",
      "settings_plot     module         <module 'settings_plot' f<...>cripts/settings_plot.py'>\n",
      "sys               module         <module 'sys' (built-in)>\n"
     ]
    }
   ],
   "source": [
    "whos"
   ]
  },
  {
   "cell_type": "markdown",
   "id": "e56c6911-cbfc-4970-8e37-2702419ce00d",
   "metadata": {
    "tags": []
   },
   "source": [
    "# Exercício 2"
   ]
  },
  {
   "cell_type": "markdown",
   "id": "58733bb6-a06a-4d2d-87e5-607c529423cb",
   "metadata": {},
   "source": [
    "A equação indicada a seguir, descreve as relações i-d-f de chuvas em um certo local. Utilizando o método do Bureau of Reclamation, determine os hietogramas de projeto para um sistema de esgotos pluviais da região próxima do local, para duas bacias com tempos de concentração iguais a 40 e 90 minutos, respectivamente. Utilizar tempo de recorrência de 10 anos.\n",
    "\n",
    "$$i = \\dfrac{1200 T^{0,12}}{(t + 20)^{0,70}}$$\n",
    "\n",
    "onde $t$ em minutos, $T$ em anos e $i$ em mm/h (exercício adaptado de Tucci, 1997)."
   ]
  },
  {
   "cell_type": "code",
   "execution_count": null,
   "id": "3e5dc26a-56df-42aa-b7a1-4a481ece511c",
   "metadata": {},
   "outputs": [],
   "source": []
  },
  {
   "cell_type": "markdown",
   "id": "5c943514-cc1f-42b1-afb8-159da6ef7248",
   "metadata": {},
   "source": [
    "Adotado: incrementos de 10 minutos"
   ]
  },
  {
   "cell_type": "code",
   "execution_count": null,
   "id": "caf608c1-c993-4caf-96c6-b49c843f8c1e",
   "metadata": {},
   "outputs": [],
   "source": []
  },
  {
   "cell_type": "code",
   "execution_count": null,
   "id": "5df5964b-7cdf-44b6-9c7a-9865155f5748",
   "metadata": {},
   "outputs": [],
   "source": []
  },
  {
   "cell_type": "code",
   "execution_count": null,
   "id": "8c58aab3-4ed5-4c6d-83fa-1fedeac44cd1",
   "metadata": {},
   "outputs": [],
   "source": []
  },
  {
   "cell_type": "code",
   "execution_count": null,
   "id": "7a44ed76-ed4a-4d01-99e8-a11d04e0e982",
   "metadata": {},
   "outputs": [],
   "source": []
  },
  {
   "cell_type": "code",
   "execution_count": null,
   "id": "7c7ceaae-139b-4247-87d7-3137fb55fa70",
   "metadata": {},
   "outputs": [],
   "source": []
  },
  {
   "cell_type": "code",
   "execution_count": null,
   "id": "50bfd718-c531-4650-8596-8e33785bd2ba",
   "metadata": {},
   "outputs": [],
   "source": []
  },
  {
   "cell_type": "code",
   "execution_count": null,
   "id": "bd352431-3a95-451c-a1da-be932601471b",
   "metadata": {},
   "outputs": [],
   "source": []
  },
  {
   "cell_type": "code",
   "execution_count": null,
   "id": "19bed011-14f9-45a7-9d59-2870089cd9ca",
   "metadata": {},
   "outputs": [],
   "source": []
  },
  {
   "cell_type": "code",
   "execution_count": null,
   "id": "92abe00d-b550-44b9-b91b-4603ac257b20",
   "metadata": {},
   "outputs": [],
   "source": []
  },
  {
   "cell_type": "code",
   "execution_count": null,
   "id": "f4c20b18-365c-4fc1-b9a2-b0808568ee6d",
   "metadata": {},
   "outputs": [],
   "source": []
  },
  {
   "cell_type": "code",
   "execution_count": null,
   "id": "aebd61de-bd6d-4ca3-856f-262713cb9a07",
   "metadata": {},
   "outputs": [],
   "source": []
  },
  {
   "cell_type": "markdown",
   "id": "9f5ab07e-233b-47b0-8375-29810e65bdc0",
   "metadata": {
    "tags": []
   },
   "source": [
    "# Exercício 3"
   ]
  },
  {
   "cell_type": "markdown",
   "id": "0f05e177-e03f-4559-b0c1-81b72bb888fd",
   "metadata": {},
   "source": [
    "Dada uma bacia hidrográfica de forma circular com 314,16 km2 de área, determinar a chuva média de um episódio pluvial pelo método das isoietas, sabendo que o total precipitado na posição central da bacia foi de 100 mm, o mapa das isoietas é formado por círculos concêntricos de 2, 4, 6, 8 e 10 km de raio, correspondentes, respectivamente, a 80, 60, 40, 20 e 0 mm (exercício extraído de Úmbria e Zandonai, 1996)."
   ]
  },
  {
   "cell_type": "markdown",
   "id": "816ae102-1ea3-4177-b32e-95993eb3cf0e",
   "metadata": {},
   "source": [
    "$$\n",
    "    \\bar P = \\dfrac{1}{A} \\left( \\sum A_{i, i+1} \\dfrac{P_i + P_{i+1}}{2} \\right) = 0.4 \\left[ \\sum_{i=0}^{4} (2i + 1)(10 - 2i - 1) \\right]\n",
    "$$"
   ]
  },
  {
   "cell_type": "code",
   "execution_count": 12,
   "id": "be5c10cc-c2cd-456d-8345-db9c65fdcdbf",
   "metadata": {},
   "outputs": [
    {
     "data": {
      "text/plain": [
       "34.0"
      ]
     },
     "execution_count": 12,
     "metadata": {},
     "output_type": "execute_result"
    }
   ],
   "source": [
    "e_03_p = 0.4 * sum(\n",
    "    (2*i + 1) * (10 - 2*i - 1) for i in range(5)\n",
    ")\n",
    "e_03_p"
   ]
  },
  {
   "cell_type": "markdown",
   "id": "b4b29c8b-abe8-4dd5-b1f4-5ac7f9f10bcf",
   "metadata": {},
   "source": [
    "# Exercício 4"
   ]
  },
  {
   "cell_type": "markdown",
   "id": "eb4ac633-31c6-4a71-8a45-6434b8ae6e19",
   "metadata": {},
   "source": [
    "Na verdade, a figura geométrica que produziu as isoietas do exercício anterior seria representada por uma série de cilindros concêntricos. Assim sendo, pode-se resolver o problema, imaginando-se que as isoietas são de milímetro em milímetro e não de 10 mm em 10 mm. Pode-se resolver, mais uma vez, com diferenças ainda menores entre as isoietas. No limite, qual o valor exato da precipitação média? (Supor que a variação da precipitação é linear) (exercício extraído de Úmbria e Zandonai, 1996)."
   ]
  },
  {
   "cell_type": "markdown",
   "id": "3a8df104-5438-441c-856e-3cbfcedd8616",
   "metadata": {
    "tags": []
   },
   "source": [
    "# Exercício 5"
   ]
  },
  {
   "cell_type": "markdown",
   "id": "ac7c7126-624f-41b5-8c59-d1233441f377",
   "metadata": {},
   "source": [
    "Calcule novamente a evapotranspiração potencial mensal e anual do exercício resolvido na aula  09, utilizando as equações de Serra, dadas a seguir, para a avaliação dos parâmetros $I$ e $a$ do método de Thornthwaite.\n",
    "$$\n",
    "    I = \\sum_{i=1}^{12} \\left( 0,09 t_i^{\\frac{3}{2}} \\right) \\ \\ \\ e \\ \\ \\ a = 0,016I + 0,5\n",
    "$$\n",
    "Comparar os resultados obtidos em sala e os obtidos por você na solução do exercício. Procure explicar as diferenças encontradas (exercício adaptado de Úmbria e Zandonai, 1996). "
   ]
  },
  {
   "cell_type": "markdown",
   "id": "08d0b763-1ea3-4c42-a3c5-f33c9451158a",
   "metadata": {},
   "source": [
    "| Mês       | T(°C) | N(h) | Mês      | T(°C) | N(h) |\n",
    "|-----------|-------|------|----------|-------|------|\n",
    "| Janeiro   | 23,9  | 13,3 | Julho    | 16,9  | 10,9 |\n",
    "| Fevereiro | 23,5  | 12,7 | Agosto   | 18,5  | 11,4 |\n",
    "| Março     | 22,4  | 11,6 | Setembro | 20,3  | 12,0 |\n",
    "| Abril     | 20,8  | 11,6 | Outubro  | 20,8  | 12,7 |\n",
    "| Maio      | 17,0  | 11,0 | Novembro | 23,1  | 13,2 |\n",
    "| Junho     | 16,0  | 10,7 | Dezembro | 23,0  | 13,6 |"
   ]
  },
  {
   "cell_type": "markdown",
   "id": "3ff5006f-2b6b-41d1-95fb-7eaffe83d5a2",
   "metadata": {
    "tags": []
   },
   "source": [
    "## Resolução"
   ]
  },
  {
   "cell_type": "markdown",
   "id": "67cf2ccc-e256-49be-8452-847154cf3f3e",
   "metadata": {
    "tags": []
   },
   "source": [
    "### Entradas"
   ]
  },
  {
   "cell_type": "code",
   "execution_count": 10,
   "id": "72ddeb1f-68f6-4856-8ba4-921ce7d1fc45",
   "metadata": {},
   "outputs": [],
   "source": [
    "e_05_T = np.array([\n",
    "    23.9, 23.5, 22.4, 20.8, 17. , 16. , 16.9, 18.5, 20.3, 20.8, 23.1, 23. ,\n",
    "])\n",
    "e_05_N = np.array([\n",
    "    13.3, 12.7, 11.6, 11.6, 11. , 10.7, 10.9, 11.4, 12. , 12.7, 13.2, 13.6,\n",
    "])"
   ]
  },
  {
   "cell_type": "markdown",
   "id": "a4849a70-658c-4641-9d9a-7c84dce23557",
   "metadata": {
    "tags": []
   },
   "source": [
    "### Método de Thornthwaite"
   ]
  },
  {
   "cell_type": "code",
   "execution_count": 11,
   "id": "581b2e2e-94ec-4cec-ab69-e3e17e3dea2b",
   "metadata": {},
   "outputs": [],
   "source": [
    "e_05_EVTp, e_05_I, e_05_a = hydro.thornthwaite(e_05_T, e_05_N, serra=True)"
   ]
  },
  {
   "cell_type": "code",
   "execution_count": 12,
   "id": "4148e6fd-0dbf-49fd-bde3-ee24d38e6f6c",
   "metadata": {
    "tags": []
   },
   "outputs": [],
   "source": [
    "e_05_data = {\n",
    "    \"T (°C)\" : e_05_T,\n",
    "    \"N (h)\" : e_05_N,\n",
    "    \"EVTp (mm)\" : e_05_EVTp.round(1),\n",
    "}\n",
    "e_05_data = pd.DataFrame(\n",
    "    data=e_05_data, index=[\"Jan\", \"Fev\", \"Mar\", \"Abr\", \"Mai\", \"Jun\",\n",
    "                           \"Jul\", \"Ago\", \"Set\", \"Out\", \"Nov\", \"Dez\"]\n",
    ")"
   ]
  },
  {
   "cell_type": "code",
   "execution_count": 13,
   "id": "9088258e-5f64-4323-aa20-1b5a7bd24b50",
   "metadata": {},
   "outputs": [
    {
     "name": "stdout",
     "output_type": "stream",
     "text": [
      "     T (°C)  N (h)  EVTp (mm)\n",
      "Jan    23.9   13.3      114.8\n",
      "Fev    23.5   12.7       95.5\n",
      "Mar    22.4   11.6       87.3\n",
      "Abr    20.8   11.6       72.2\n",
      "Mai    17.0   11.0       46.2\n",
      "Jun    16.0   10.7       38.2\n",
      "Jul    16.9   10.9       45.2\n",
      "Ago    18.5   11.4       57.2\n",
      "Set    20.3   12.0       70.9\n",
      "Out    20.8   12.7       81.7\n",
      "Nov    23.1   13.2      102.6\n",
      "Dez    23.0   13.6      108.2\n",
      "a = 2.12\n",
      "I = 101.02\n"
     ]
    }
   ],
   "source": [
    "print(e_05_data)\n",
    "print(\"a =\", e_05_a.round(2))\n",
    "print(\"I =\", e_05_I.round(2))"
   ]
  },
  {
   "cell_type": "code",
   "execution_count": 30,
   "id": "a108d8b7-21a8-4c3b-a325-f98f5fd3db43",
   "metadata": {},
   "outputs": [
    {
     "data": {
      "image/png": "[encoded data removed]",
      "text/plain": [
       "<Figure size 900x600 with 1 Axes>"
      ]
     },
     "metadata": {
      "needs_background": "light"
     },
     "output_type": "display_data"
    }
   ],
   "source": [
    "fig, ax = plt.subplots(constrained_layout=True)\n",
    "e_05_data[\"EVTp (mm)\"].plot(marker=\"o\", ax=ax)\n",
    "ax.set_xticks(range(0,12))\n",
    "ax.set_ylabel(\"EVTp (mm)\")\n",
    "ax.set_ylim([30, 120])\n",
    "plt.show()"
   ]
  },
  {
   "cell_type": "markdown",
   "id": "3e51f1ad-2d43-433e-bbed-8818b071965d",
   "metadata": {
    "tags": []
   },
   "source": [
    "# Exercício 6"
   ]
  },
  {
   "cell_type": "markdown",
   "id": "0fd041dd-369a-4179-9485-2f2ae82dcf12",
   "metadata": {},
   "source": [
    "Refaça o exemplo da aula 09 (método de Thornthwaite), substituindo a temperatura média mensal em cada mês pela temperatura média anual. Compare os resultados btidos com o exemplo resolvido na referida aula, relativamente às evapotranspirações médias mensais e a evapotranspiração média anual. "
   ]
  },
  {
   "cell_type": "markdown",
   "id": "b33c5edc-c2e8-4b5c-8f64-0a27d8c6802f",
   "metadata": {
    "tags": []
   },
   "source": [
    "## Resolução"
   ]
  },
  {
   "cell_type": "markdown",
   "id": "d6aa5415-6caa-4a51-91cc-039753ca2a85",
   "metadata": {
    "jp-MarkdownHeadingCollapsed": true,
    "tags": []
   },
   "source": [
    "### Entradas"
   ]
  },
  {
   "cell_type": "code",
   "execution_count": null,
   "id": "5c1c01c0-d246-4037-84fc-64aac48ea937",
   "metadata": {},
   "outputs": [],
   "source": [
    "e_06_T = np.array([\n",
    "    23.9, 23.5, 22.4, 20.8, 17. , 16. , 16.9, 18.5, 20.3, 20.8, 23.1, 23. ,\n",
    "])\n",
    "e_06_T = e_06_T.mean() * np.ones(12)\n",
    "\n",
    "e_06_N = np.array([\n",
    "    13.3, 12.7, 11.6, 11.6, 11. , 10.7, 10.9, 11.4, 12. , 12.7, 13.2, 13.6,\n",
    "])"
   ]
  },
  {
   "cell_type": "markdown",
   "id": "ef758266-a928-4405-9fe0-4ce535c27b57",
   "metadata": {
    "tags": []
   },
   "source": [
    "### Método de Thornthwaite"
   ]
  },
  {
   "cell_type": "code",
   "execution_count": null,
   "id": "7e88bd6d-4e25-44bf-bbd7-5f70e8137001",
   "metadata": {},
   "outputs": [],
   "source": [
    "e_06_EVTp, e_06_I, e_06_a = hydro.thornthwaite(e_06_T, e_06_N)"
   ]
  },
  {
   "cell_type": "code",
   "execution_count": null,
   "id": "371fe423-6daa-4a7e-b781-714754c3f26d",
   "metadata": {
    "tags": []
   },
   "outputs": [],
   "source": [
    "e_06_data = {\n",
    "    \"T (°C)\" : e_06_T.round(1),\n",
    "    \"N (h)\" : e_06_N,\n",
    "    \"EVTp (mm)\" : e_06_EVTp.round(1),\n",
    "}\n",
    "e_06_data = pd.DataFrame(\n",
    "    data=e_06_data, index=[\"Jan\", \"Fev\", \"Mar\", \"Abr\", \"Mai\", \"Jun\",\n",
    "                           \"Jul\", \"Ago\", \"Set\", \"Out\", \"Nov\", \"Dez\"]\n",
    ")"
   ]
  },
  {
   "cell_type": "code",
   "execution_count": null,
   "id": "34cedfb5-648b-4f7f-aed7-b73336b0d851",
   "metadata": {},
   "outputs": [],
   "source": [
    "e_06_data"
   ]
  },
  {
   "cell_type": "code",
   "execution_count": null,
   "id": "00fca2c2-792f-455b-a79e-7e65fa42615e",
   "metadata": {},
   "outputs": [],
   "source": [
    "print(\"a =\", e_06_a.round(2))\n",
    "print(\"I =\", e_06_I.round(2))"
   ]
  },
  {
   "cell_type": "code",
   "execution_count": null,
   "id": "17ce3445-9fc0-4922-b721-63a0ca43e64a",
   "metadata": {},
   "outputs": [],
   "source": []
  },
  {
   "cell_type": "code",
   "execution_count": null,
   "id": "bbbd0083-b9ed-4a04-b9b0-35b7d0bc6bf4",
   "metadata": {},
   "outputs": [],
   "source": []
  }
 ],
 "metadata": {
  "kernelspec": {
   "display_name": "Python 3 (ipykernel)",
   "language": "python",
   "name": "python3"
  },
  "language_info": {
   "codemirror_mode": {
    "name": "ipython",
    "version": 3
   },
   "file_extension": ".py",
   "mimetype": "text/x-python",
   "name": "python",
   "nbconvert_exporter": "python",
   "pygments_lexer": "ipython3",
   "version": "3.9.7"
  }
 },
 "nbformat": 4,
 "nbformat_minor": 5
}
