{
 "cells": [
  {
   "cell_type": "code",
   "execution_count": 1,
   "id": "7ad13a06-93dc-427b-ba54-724511386b22",
   "metadata": {},
   "outputs": [],
   "source": [
    "import sys\n",
    "sys.path.append(\"/Users/rq.aita/Scripts\")\n",
    "\n",
    "import pandas as pd\n",
    "import numpy as np\n",
    "import hydrology as hydro"
   ]
  },
  {
   "cell_type": "markdown",
   "id": "3a8df104-5438-441c-856e-3cbfcedd8616",
   "metadata": {
    "tags": []
   },
   "source": [
    "# Exercício 5"
   ]
  },
  {
   "cell_type": "markdown",
   "id": "ac7c7126-624f-41b5-8c59-d1233441f377",
   "metadata": {},
   "source": [
    "Calcule novamente a evapotranspiração potencial mensal e anual do exercício resolvido na aula  09, utilizando as equações de Serra, dadas a seguir, para a avaliação dos parâmetros $I$ e $a$ do método de Thornthwaite.\n",
    "$$\n",
    "    I = \\sum_{i=1}^{12} \\left( 0,09 t_i^{\\frac{3}{2}} \\right) \\ \\ \\ e \\ \\ \\ a = 0,016I + 0,5\n",
    "$$\n",
    "Comparar os resultados obtidos em sala e os obtidos por você na solução do exercício. Procure explicar as diferenças encontradas (exercício adaptado de Úmbria e Zandonai, 1996). "
   ]
  },
  {
   "cell_type": "markdown",
   "id": "08d0b763-1ea3-4c42-a3c5-f33c9451158a",
   "metadata": {},
   "source": [
    "| Mês       | T(°C) | N(h) | Mês      | T(°C) | N(h) |\n",
    "|-----------|-------|------|----------|-------|------|\n",
    "| Janeiro   | 23,9  | 13,3 | Julho    | 16,9  | 10,9 |\n",
    "| Fevereiro | 23,5  | 12,7 | Agosto   | 18,5  | 11,4 |\n",
    "| Março     | 22,4  | 11,6 | Setembro | 20,3  | 12,0 |\n",
    "| Abril     | 20,8  | 11,6 | Outubro  | 20,8  | 12,7 |\n",
    "| Maio      | 17,0  | 11,0 | Novembro | 23,1  | 13,2 |\n",
    "| Junho     | 16,0  | 10,7 | Dezembro | 23,0  | 13,6 |"
   ]
  },
  {
   "cell_type": "markdown",
   "id": "67cf2ccc-e256-49be-8452-847154cf3f3e",
   "metadata": {},
   "source": [
    "## Entradas"
   ]
  },
  {
   "cell_type": "code",
   "execution_count": 3,
   "id": "72ddeb1f-68f6-4856-8ba4-921ce7d1fc45",
   "metadata": {},
   "outputs": [],
   "source": [
    "e_05_T = np.array([\n",
    "    23.9, 23.5, 22.4, 20.8, 17. , 16. , 16.9, 18.5, 20.3, 20.8, 23.1, 23. ,\n",
    "])\n",
    "e_05_N = np.array([\n",
    "    13.3, 12.7, 11.6, 11.6, 11. , 10.7, 10.9, 11.4, 12. , 12.7, 13.2, 13.6,\n",
    "])"
   ]
  },
  {
   "cell_type": "markdown",
   "id": "525fbfc9-8412-4bd1-a75b-ee7d893c11c8",
   "metadata": {},
   "source": [
    "## Resolução"
   ]
  },
  {
   "cell_type": "code",
   "execution_count": 4,
   "id": "581b2e2e-94ec-4cec-ab69-e3e17e3dea2b",
   "metadata": {},
   "outputs": [],
   "source": [
    "e_05_EVTp, e_05_I, e_05_a = hydro.thornthwaite(e_05_T, e_05_N, serra=True)"
   ]
  },
  {
   "cell_type": "code",
   "execution_count": 5,
   "id": "4148e6fd-0dbf-49fd-bde3-ee24d38e6f6c",
   "metadata": {
    "tags": []
   },
   "outputs": [],
   "source": [
    "e_05_data = {\n",
    "    \"T (°C)\" : e_05_T,\n",
    "    \"N (h)\" : e_05_N,\n",
    "    \"EVTp (mm)\" : e_05_EVTp.round(1),\n",
    "}\n",
    "e_05_data = pd.DataFrame(\n",
    "    data=e_05_data, index=[\"Jan\", \"Fev\", \"Mar\", \"Abr\", \"Mai\", \"Jun\",\n",
    "                           \"Jul\", \"Ago\", \"Set\", \"Out\", \"Nov\", \"Dez\"]\n",
    ")"
   ]
  },
  {
   "cell_type": "code",
   "execution_count": 28,
   "id": "9088258e-5f64-4323-aa20-1b5a7bd24b50",
   "metadata": {},
   "outputs": [
    {
     "name": "stdout",
     "output_type": "stream",
     "text": [
      "     T (°C)     N  EVTp (mm)\n",
      "Jan    23.9  13.3      114.8\n",
      "Fev    23.5  12.7       95.5\n",
      "Mar    22.4  11.6       87.3\n",
      "Abr    20.8  11.6       72.2\n",
      "Mai    17.0  11.0       46.2\n",
      "Jun    16.0  10.7       38.2\n",
      "Jul    16.9  10.9       45.2\n",
      "Ago    18.5  11.4       57.2\n",
      "Set    20.3  12.0       70.9\n",
      "Out    20.8  12.7       81.7\n",
      "Nov    23.1  13.2      102.6\n",
      "Dez    23.0  13.6      108.2\n",
      "a = 2.12\n",
      "I = 101.02\n"
     ]
    }
   ],
   "source": [
    "print(e_05_data)\n",
    "print(\"a =\", e_05_a.round(2))\n",
    "print(\"I =\", e_05_I.round(2))"
   ]
  },
  {
   "cell_type": "markdown",
   "id": "3e51f1ad-2d43-433e-bbed-8818b071965d",
   "metadata": {
    "tags": []
   },
   "source": [
    "# Exercício 6"
   ]
  },
  {
   "cell_type": "markdown",
   "id": "0fd041dd-369a-4179-9485-2f2ae82dcf12",
   "metadata": {},
   "source": [
    "Refaça o exemplo da aula 09 (método de Thornthwaite), substituindo a temperatura média mensal em cada mês pela temperatura média anual. Compare os resultados btidos com o exemplo resolvido na referida aula, relativamente às evapotranspirações médias mensais e a evapotranspiração média anual. "
   ]
  },
  {
   "cell_type": "markdown",
   "id": "d6aa5415-6caa-4a51-91cc-039753ca2a85",
   "metadata": {},
   "source": [
    "## Entradas"
   ]
  },
  {
   "cell_type": "code",
   "execution_count": 16,
   "id": "5c1c01c0-d246-4037-84fc-64aac48ea937",
   "metadata": {},
   "outputs": [],
   "source": [
    "e_06_T = np.array([\n",
    "    23.9, 23.5, 22.4, 20.8, 17. , 16. , 16.9, 18.5, 20.3, 20.8, 23.1, 23. ,\n",
    "])\n",
    "e_06_T = e_06_T.mean() * np.ones(12)\n",
    "\n",
    "e_06_N = np.array([\n",
    "    13.3, 12.7, 11.6, 11.6, 11. , 10.7, 10.9, 11.4, 12. , 12.7, 13.2, 13.6,\n",
    "])"
   ]
  },
  {
   "cell_type": "markdown",
   "id": "63196eb9-a040-4b4a-af4e-327e4eb4a6c6",
   "metadata": {},
   "source": [
    "## Resolução"
   ]
  },
  {
   "cell_type": "code",
   "execution_count": 29,
   "id": "7e88bd6d-4e25-44bf-bbd7-5f70e8137001",
   "metadata": {},
   "outputs": [],
   "source": [
    "e_06_EVTp, e_06_I, e_06_a = hydro.thornthwaite(e_06_T, e_06_N)"
   ]
  },
  {
   "cell_type": "code",
   "execution_count": 30,
   "id": "371fe423-6daa-4a7e-b781-714754c3f26d",
   "metadata": {
    "tags": []
   },
   "outputs": [],
   "source": [
    "e_06_data = {\n",
    "    \"T (°C)\" : e_06_T.round(1),\n",
    "    \"N (h)\" : e_06_N,\n",
    "    \"EVTp (mm)\" : e_06_EVTp.round(1),\n",
    "}\n",
    "e_06_data = pd.DataFrame(\n",
    "    data=e_06_data, index=[\"Jan\", \"Fev\", \"Mar\", \"Abr\", \"Mai\", \"Jun\",\n",
    "                           \"Jul\", \"Ago\", \"Set\", \"Out\", \"Nov\", \"Dez\"]\n",
    ")"
   ]
  },
  {
   "cell_type": "code",
   "execution_count": 31,
   "id": "34cedfb5-648b-4f7f-aed7-b73336b0d851",
   "metadata": {},
   "outputs": [
    {
     "data": {
      "text/html": [
       "<div>\n",
       "<style scoped>\n",
       "    .dataframe tbody tr th:only-of-type {\n",
       "        vertical-align: middle;\n",
       "    }\n",
       "\n",
       "    .dataframe tbody tr th {\n",
       "        vertical-align: top;\n",
       "    }\n",
       "\n",
       "    .dataframe thead th {\n",
       "        text-align: right;\n",
       "    }\n",
       "</style>\n",
       "<table border=\"1\" class=\"dataframe\">\n",
       "  <thead>\n",
       "    <tr style=\"text-align: right;\">\n",
       "      <th></th>\n",
       "      <th>T (°C)</th>\n",
       "      <th>N (h)</th>\n",
       "      <th>EVTp (mm)</th>\n",
       "    </tr>\n",
       "  </thead>\n",
       "  <tbody>\n",
       "    <tr>\n",
       "      <th>Jan</th>\n",
       "      <td>20.5</td>\n",
       "      <td>13.3</td>\n",
       "      <td>88.4</td>\n",
       "    </tr>\n",
       "    <tr>\n",
       "      <th>Fev</th>\n",
       "      <td>20.5</td>\n",
       "      <td>12.7</td>\n",
       "      <td>76.2</td>\n",
       "    </tr>\n",
       "    <tr>\n",
       "      <th>Mar</th>\n",
       "      <td>20.5</td>\n",
       "      <td>11.6</td>\n",
       "      <td>77.1</td>\n",
       "    </tr>\n",
       "    <tr>\n",
       "      <th>Abr</th>\n",
       "      <td>20.5</td>\n",
       "      <td>11.6</td>\n",
       "      <td>74.6</td>\n",
       "    </tr>\n",
       "    <tr>\n",
       "      <th>Mai</th>\n",
       "      <td>20.5</td>\n",
       "      <td>11.0</td>\n",
       "      <td>73.1</td>\n",
       "    </tr>\n",
       "    <tr>\n",
       "      <th>Jun</th>\n",
       "      <td>20.5</td>\n",
       "      <td>10.7</td>\n",
       "      <td>68.8</td>\n",
       "    </tr>\n",
       "    <tr>\n",
       "      <th>Jul</th>\n",
       "      <td>20.5</td>\n",
       "      <td>10.9</td>\n",
       "      <td>72.5</td>\n",
       "    </tr>\n",
       "    <tr>\n",
       "      <th>Ago</th>\n",
       "      <td>20.5</td>\n",
       "      <td>11.4</td>\n",
       "      <td>75.8</td>\n",
       "    </tr>\n",
       "    <tr>\n",
       "      <th>Set</th>\n",
       "      <td>20.5</td>\n",
       "      <td>12.0</td>\n",
       "      <td>77.2</td>\n",
       "    </tr>\n",
       "    <tr>\n",
       "      <th>Out</th>\n",
       "      <td>20.5</td>\n",
       "      <td>12.7</td>\n",
       "      <td>84.4</td>\n",
       "    </tr>\n",
       "    <tr>\n",
       "      <th>Nov</th>\n",
       "      <td>20.5</td>\n",
       "      <td>13.2</td>\n",
       "      <td>84.9</td>\n",
       "    </tr>\n",
       "    <tr>\n",
       "      <th>Dez</th>\n",
       "      <td>20.5</td>\n",
       "      <td>13.6</td>\n",
       "      <td>90.4</td>\n",
       "    </tr>\n",
       "  </tbody>\n",
       "</table>\n",
       "</div>"
      ],
      "text/plain": [
       "     T (°C)  N (h)  EVTp (mm)\n",
       "Jan    20.5   13.3       88.4\n",
       "Fev    20.5   12.7       76.2\n",
       "Mar    20.5   11.6       77.1\n",
       "Abr    20.5   11.6       74.6\n",
       "Mai    20.5   11.0       73.1\n",
       "Jun    20.5   10.7       68.8\n",
       "Jul    20.5   10.9       72.5\n",
       "Ago    20.5   11.4       75.8\n",
       "Set    20.5   12.0       77.2\n",
       "Out    20.5   12.7       84.4\n",
       "Nov    20.5   13.2       84.9\n",
       "Dez    20.5   13.6       90.4"
      ]
     },
     "execution_count": 31,
     "metadata": {},
     "output_type": "execute_result"
    }
   ],
   "source": [
    "e_06_data"
   ]
  },
  {
   "cell_type": "code",
   "execution_count": 32,
   "id": "00fca2c2-792f-455b-a79e-7e65fa42615e",
   "metadata": {},
   "outputs": [
    {
     "name": "stdout",
     "output_type": "stream",
     "text": [
      "a = 2.23\n",
      "I = 101.73\n"
     ]
    }
   ],
   "source": [
    "print(\"a =\", e_06_a.round(2))\n",
    "print(\"I =\", e_06_I.round(2))"
   ]
  },
  {
   "cell_type": "code",
   "execution_count": null,
   "id": "17ce3445-9fc0-4922-b721-63a0ca43e64a",
   "metadata": {},
   "outputs": [],
   "source": []
  },
  {
   "cell_type": "code",
   "execution_count": null,
   "id": "bbbd0083-b9ed-4a04-b9b0-35b7d0bc6bf4",
   "metadata": {},
   "outputs": [],
   "source": []
  }
 ],
 "metadata": {
  "kernelspec": {
   "display_name": "Python 3 (ipykernel)",
   "language": "python",
   "name": "python3"
  },
  "language_info": {
   "codemirror_mode": {
    "name": "ipython",
    "version": 3
   },
   "file_extension": ".py",
   "mimetype": "text/x-python",
   "name": "python",
   "nbconvert_exporter": "python",
   "pygments_lexer": "ipython3",
   "version": "3.9.7"
  }
 },
 "nbformat": 4,
 "nbformat_minor": 5
}
