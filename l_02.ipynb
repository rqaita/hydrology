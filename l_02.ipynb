{
 "cells": [
  {
   "cell_type": "code",
   "execution_count": 1,
   "id": "7ad13a06-93dc-427b-ba54-724511386b22",
   "metadata": {},
   "outputs": [],
   "source": [
    "import sys\n",
    "sys.path.append(\"/Users/rq.aita/Scripts\")\n",
    "\n",
    "import pandas as pd\n",
    "import numpy as np\n",
    "import matplotlib.pyplot as plt\n",
    "from sklearn import linear_model\n",
    "\n",
    "import hydrology as hydro\n",
    "import settings_plot"
   ]
  },
  {
   "cell_type": "markdown",
   "id": "0796f227-65fa-4910-b0ca-7dcfaa138065",
   "metadata": {
    "tags": []
   },
   "source": [
    "# Exercício 1"
   ]
  },
  {
   "cell_type": "markdown",
   "id": "cf8e328a-62e7-4bef-aa67-0af4b2f58047",
   "metadata": {},
   "source": [
    "Na tabela a seguir, são apresentados os registros dos totais anuais de precipitação em duas estações próximas, X e Y, no período 1943-76. Deseja-se utilizar esses dados para efetuar o balanço hídrico em nível anual na região em que estão localizadas as estações. Solicita-se efetuar o preenchimento de todos os valores não disponíveis no período mediante regressão linear (exercício extraído de Tucci, 1997)."
   ]
  },
  {
   "cell_type": "markdown",
   "id": "6c2724bc-bebf-4a2b-9a8d-d7de6892f18c",
   "metadata": {},
   "source": [
    "| Ano  | X (mm) | Y (mm) | Ano  | X (mm) | Y (mm) |\n",
    "|------|--------|--------|------|--------|--------|\n",
    "| 1943 |        | 1497   | 1960 | 1656   |        |\n",
    "| 1944 |        | 1243   | 1961 | 2167   | 1678   |\n",
    "| 1945 |        | 1359   | 1962 |        | 2048   |\n",
    "| 1946 | 1505   | 1493   | 1963 | 1981   | 1771   |\n",
    "| 1947 | 1634   | 1559   | 1964 | 1551   | 1191   |\n",
    "| 1948 | 1775   | 1671   | 1965 | 1781   | 1572   |\n",
    "| 1949 | 1421   | 1533   | 1966 | 1965   | 1666   |\n",
    "| 1950 | 1619   |        | 1967 | 1342   | 1012   |\n",
    "| 1951 | 1304   | 1214   | 1968 | 841    | 1064   |\n",
    "| 1952 | 1640   | 1384   | 1969 | 1205   | 1349   |\n",
    "| 1953 | 1569   |        | 1970 | 1287   | 1541   |\n",
    "| 1954 | 2209   | 2158   | 1971 | 1509   | 1539   |\n",
    "| 1955 | 1393   | 1371   | 1972 | 1664   |        |\n",
    "| 1956 |        | 2035   | 1973 | 2021   |        |\n",
    "| 1957 | 2090   | 2229   | 1974 | 1906   |        |\n",
    "| 1958 | 2311   | 2189   | 1975 | 1776   |        |\n",
    "| 1959 | 1638   | 1553   | 1976 | 1925   |        |"
   ]
  },
  {
   "cell_type": "markdown",
   "id": "c5fc32b5-ddef-4785-9b0f-be42e12f10cb",
   "metadata": {
    "tags": []
   },
   "source": [
    "# Resolução"
   ]
  },
  {
   "cell_type": "markdown",
   "id": "2d7ee07f-cddf-4624-a106-82b4597ff8f2",
   "metadata": {
    "jp-MarkdownHeadingCollapsed": true,
    "tags": []
   },
   "source": [
    "### Entrada"
   ]
  },
  {
   "cell_type": "code",
   "execution_count": 2,
   "id": "cff2d077-f893-4dec-a7bd-77fc8bfae115",
   "metadata": {},
   "outputs": [],
   "source": [
    "e_01_data = pd.read_excel(\"files/l_02_01.xlsx\", index_col=\"Ano\")\n",
    "\n",
    "# Período em comum das estações\n",
    "e_01_data_comum = e_01_data[~e_01_data.isnull().any(axis=1)]\n",
    "\n",
    "# Anos com falha em X ou Y\n",
    "e_01_falha_y = e_01_data[\"X (mm)\"][e_01_data[\"Y (mm)\"].isnull()]\n",
    "e_01_falha_x = e_01_data[\"Y (mm)\"][e_01_data[\"X (mm)\"].isnull()]"
   ]
  },
  {
   "cell_type": "markdown",
   "id": "b7b1d7c8-b695-4d41-95c4-79772254636e",
   "metadata": {
    "jp-MarkdownHeadingCollapsed": true,
    "tags": []
   },
   "source": [
    "### Ajuste"
   ]
  },
  {
   "cell_type": "markdown",
   "id": "f7d99052-1cbd-4063-b1bc-1f6840a45167",
   "metadata": {},
   "source": [
    "Regressão na forma $Y = a X + b$, com $a$ e $b$ estimados pelo método dos mínimos quadrados"
   ]
  },
  {
   "cell_type": "code",
   "execution_count": 3,
   "id": "6e15ca49-1b1d-463e-a045-b9452d2a3fe9",
   "metadata": {},
   "outputs": [
    {
     "name": "stdout",
     "output_type": "stream",
     "text": [
      "R2 = 0.72\n",
      "Termo independente a = 0.752\n",
      "Termo independente b = 321.852\n"
     ]
    }
   ],
   "source": [
    "e_01_x = e_01_data_comum[\"X (mm)\"].to_numpy()\n",
    "e_01_x = e_01_x.reshape((-1, 1))\n",
    "\n",
    "e_01_y = e_01_data_comum[\"Y (mm)\"].to_numpy()\n",
    "\n",
    "reg = linear_model.LinearRegression()\n",
    "reg.fit(e_01_x, e_01_y)\n",
    "\n",
    "print(\"R2 =\", reg.score(e_01_x, e_01_y).round(2))\n",
    "\n",
    "e_01_a = reg.coef_[0]\n",
    "print(\"Termo independente a =\", round(e_01_a, 3))\n",
    "\n",
    "e_01_b = reg.intercept_\n",
    "print(\"Termo independente b =\", round(e_01_b, 3))"
   ]
  },
  {
   "cell_type": "markdown",
   "id": "5cdac6c5-9bd6-4c71-aae7-cf96d644d972",
   "metadata": {},
   "source": [
    "Ajuste obtido: $$Y = 0,752X + 321,852.$$"
   ]
  },
  {
   "cell_type": "markdown",
   "id": "277bd28a-5264-4fca-9140-100047ecf511",
   "metadata": {
    "tags": []
   },
   "source": [
    "### Preenchimento"
   ]
  },
  {
   "cell_type": "markdown",
   "id": "cd0718c9-e92c-45e5-9d29-8c3002546f40",
   "metadata": {},
   "source": [
    "#### Estação X = (Y - b) / a"
   ]
  },
  {
   "cell_type": "code",
   "execution_count": 4,
   "id": "a6130613-bf00-47cf-8e79-4a1f5ce3f6e6",
   "metadata": {},
   "outputs": [
    {
     "data": {
      "text/html": [
       "<div>\n",
       "<style scoped>\n",
       "    .dataframe tbody tr th:only-of-type {\n",
       "        vertical-align: middle;\n",
       "    }\n",
       "\n",
       "    .dataframe tbody tr th {\n",
       "        vertical-align: top;\n",
       "    }\n",
       "\n",
       "    .dataframe thead th {\n",
       "        text-align: right;\n",
       "    }\n",
       "</style>\n",
       "<table border=\"1\" class=\"dataframe\">\n",
       "  <thead>\n",
       "    <tr style=\"text-align: right;\">\n",
       "      <th></th>\n",
       "      <th>Y (mm)</th>\n",
       "      <th>X (mm)</th>\n",
       "    </tr>\n",
       "    <tr>\n",
       "      <th>Ano</th>\n",
       "      <th></th>\n",
       "      <th></th>\n",
       "    </tr>\n",
       "  </thead>\n",
       "  <tbody>\n",
       "    <tr>\n",
       "      <th>1943</th>\n",
       "      <td>1497.0</td>\n",
       "      <td>1563.0</td>\n",
       "    </tr>\n",
       "    <tr>\n",
       "      <th>1944</th>\n",
       "      <td>1243.0</td>\n",
       "      <td>1225.0</td>\n",
       "    </tr>\n",
       "    <tr>\n",
       "      <th>1945</th>\n",
       "      <td>1359.0</td>\n",
       "      <td>1379.0</td>\n",
       "    </tr>\n",
       "    <tr>\n",
       "      <th>1956</th>\n",
       "      <td>2035.0</td>\n",
       "      <td>2278.0</td>\n",
       "    </tr>\n",
       "    <tr>\n",
       "      <th>1962</th>\n",
       "      <td>2048.0</td>\n",
       "      <td>2296.0</td>\n",
       "    </tr>\n",
       "  </tbody>\n",
       "</table>\n",
       "</div>"
      ],
      "text/plain": [
       "      Y (mm)  X (mm)\n",
       "Ano                 \n",
       "1943  1497.0  1563.0\n",
       "1944  1243.0  1225.0\n",
       "1945  1359.0  1379.0\n",
       "1956  2035.0  2278.0\n",
       "1962  2048.0  2296.0"
      ]
     },
     "execution_count": 4,
     "metadata": {},
     "output_type": "execute_result"
    }
   ],
   "source": [
    "e_01_prev_x = (e_01_falha_x - e_01_b) / e_01_a\n",
    "e_01_prev_x = e_01_prev_x.rename(\"X (mm)\")\n",
    "e_01_falha_x = pd.DataFrame(e_01_falha_x)\n",
    "e_01_falha_x[\"X (mm)\"] = e_01_prev_x\n",
    "e_01_falha_x.round()"
   ]
  },
  {
   "cell_type": "markdown",
   "id": "f9c84646-f99a-41f4-bb5b-5bf318049234",
   "metadata": {},
   "source": [
    "#### Estação Y = aX + b"
   ]
  },
  {
   "cell_type": "code",
   "execution_count": 5,
   "id": "dfa11d96-795f-4c11-85fb-57442e6605a3",
   "metadata": {},
   "outputs": [
    {
     "data": {
      "text/html": [
       "<div>\n",
       "<style scoped>\n",
       "    .dataframe tbody tr th:only-of-type {\n",
       "        vertical-align: middle;\n",
       "    }\n",
       "\n",
       "    .dataframe tbody tr th {\n",
       "        vertical-align: top;\n",
       "    }\n",
       "\n",
       "    .dataframe thead th {\n",
       "        text-align: right;\n",
       "    }\n",
       "</style>\n",
       "<table border=\"1\" class=\"dataframe\">\n",
       "  <thead>\n",
       "    <tr style=\"text-align: right;\">\n",
       "      <th></th>\n",
       "      <th>X (mm)</th>\n",
       "      <th>Y (mm)</th>\n",
       "    </tr>\n",
       "    <tr>\n",
       "      <th>Ano</th>\n",
       "      <th></th>\n",
       "      <th></th>\n",
       "    </tr>\n",
       "  </thead>\n",
       "  <tbody>\n",
       "    <tr>\n",
       "      <th>1950</th>\n",
       "      <td>1619.0</td>\n",
       "      <td>1539.0</td>\n",
       "    </tr>\n",
       "    <tr>\n",
       "      <th>1953</th>\n",
       "      <td>1569.0</td>\n",
       "      <td>1502.0</td>\n",
       "    </tr>\n",
       "    <tr>\n",
       "      <th>1960</th>\n",
       "      <td>1656.0</td>\n",
       "      <td>1567.0</td>\n",
       "    </tr>\n",
       "    <tr>\n",
       "      <th>1972</th>\n",
       "      <td>1664.0</td>\n",
       "      <td>1573.0</td>\n",
       "    </tr>\n",
       "    <tr>\n",
       "      <th>1973</th>\n",
       "      <td>2021.0</td>\n",
       "      <td>1841.0</td>\n",
       "    </tr>\n",
       "    <tr>\n",
       "      <th>1974</th>\n",
       "      <td>1906.0</td>\n",
       "      <td>1755.0</td>\n",
       "    </tr>\n",
       "    <tr>\n",
       "      <th>1975</th>\n",
       "      <td>1776.0</td>\n",
       "      <td>1657.0</td>\n",
       "    </tr>\n",
       "    <tr>\n",
       "      <th>1976</th>\n",
       "      <td>1925.0</td>\n",
       "      <td>1769.0</td>\n",
       "    </tr>\n",
       "  </tbody>\n",
       "</table>\n",
       "</div>"
      ],
      "text/plain": [
       "      X (mm)  Y (mm)\n",
       "Ano                 \n",
       "1950  1619.0  1539.0\n",
       "1953  1569.0  1502.0\n",
       "1960  1656.0  1567.0\n",
       "1972  1664.0  1573.0\n",
       "1973  2021.0  1841.0\n",
       "1974  1906.0  1755.0\n",
       "1975  1776.0  1657.0\n",
       "1976  1925.0  1769.0"
      ]
     },
     "execution_count": 5,
     "metadata": {},
     "output_type": "execute_result"
    }
   ],
   "source": [
    "e_01_prev_y = e_01_a * e_01_falha_y + e_01_b\n",
    "e_01_prev_y = e_01_prev_y.rename(\"Y (mm)\")\n",
    "e_01_falha_y = pd.DataFrame(e_01_falha_y)\n",
    "e_01_falha_y[\"Y (mm)\"] = e_01_prev_y\n",
    "e_01_falha_y.round()"
   ]
  },
  {
   "cell_type": "markdown",
   "id": "7b7c8106-3b82-4e3a-a3be-4bf38415a24e",
   "metadata": {
    "tags": []
   },
   "source": [
    "### Gráfico"
   ]
  },
  {
   "cell_type": "code",
   "execution_count": 6,
   "id": "87508430-3e5e-4424-b335-195202f69245",
   "metadata": {},
   "outputs": [
    {
     "data": {
      "image/png": "[encoded data removed]",
      "text/plain": [
       "<Figure size 900x600 with 1 Axes>"
      ]
     },
     "metadata": {
      "needs_background": "light"
     },
     "output_type": "display_data"
    }
   ],
   "source": [
    "xx = np.arange(e_01_data.min()[\"X (mm)\"], e_01_data.max()[\"X (mm)\"])\n",
    "yy = reg.predict(xx.reshape(-1,1))\n",
    "\n",
    "fig, ax = plt.subplots()\n",
    "# Medições\n",
    "ax.scatter(e_01_x, e_01_y, label=\"Dados em comum\")\n",
    "# Ajuste\n",
    "ax.plot(xx, yy, label=\"Ajuste\", color=\"gray\", linestyle=\"--\")\n",
    "# Preenchimentos\n",
    "e_01_falha_x.plot.scatter(\n",
    "    x='X (mm)', y='Y (mm)', ax=ax, label=\"Ajuste X\", color=\"red\", marker=\"^\",\n",
    ")\n",
    "e_01_falha_y.plot.scatter(\n",
    "    x='X (mm)', y='Y (mm)', ax=ax, label=\"Ajuste Y\", color=\"purple\", marker=\"v\"\n",
    ")\n",
    "\n",
    "ax.legend()\n",
    "plt.show()"
   ]
  },
  {
   "cell_type": "code",
   "execution_count": 7,
   "id": "179730fd-c7f0-4bcd-a693-21b7841ed7b3",
   "metadata": {},
   "outputs": [
    {
     "name": "stdout",
     "output_type": "stream",
     "text": [
      "Variable          Type                Data/Info\n",
      "-----------------------------------------------\n",
      "ax                AxesSubplot         AxesSubplot(0.125,0.125;0.775x0.755)\n",
      "e_01_a            float64             0.7519207759924541\n",
      "e_01_b            float64             321.8518623922241\n",
      "e_01_data         DataFrame                 X (mm)  Y (mm)\\nAno<...>NaN\\n1976  1925.0     NaN\n",
      "e_01_data_comum   DataFrame                 X (mm)  Y (mm)\\nAno<...>1.0\\n1971  1509.0  1539.0\n",
      "e_01_falha_x      DataFrame                 Y (mm)       X (mm)<...>1962  2048.0  2295.651607\n",
      "e_01_falha_y      DataFrame                 X (mm)       Y (mm)<...>1976  1925.0  1769.299356\n",
      "e_01_prev_x       Series              Ano\\n1943    1562.861641\\<...>e: X (mm), dtype: float64\n",
      "e_01_prev_y       Series              Ano\\n1950    1539.211599\\<...>e: Y (mm), dtype: float64\n",
      "e_01_x            ndarray             21x1: 21 elems, type `float64`, 168 bytes\n",
      "e_01_y            ndarray             21: 21 elems, type `float64`, 168 bytes\n",
      "fig               Figure              Figure(900x600)\n",
      "hydro             module              <module 'hydrology' from <...>ta/Scripts/hydrology.py'>\n",
      "linear_model      module              <module 'sklearn.linear_m<...>inear_model/__init__.py'>\n",
      "np                module              <module 'numpy' from '/Us<...>kages/numpy/__init__.py'>\n",
      "pd                module              <module 'pandas' from '/U<...>ages/pandas/__init__.py'>\n",
      "plt               module              <module 'matplotlib.pyplo<...>es/matplotlib/pyplot.py'>\n",
      "reg               LinearRegression    LinearRegression()\n",
      "settings_plot     module              <module 'settings_plot' f<...>cripts/settings_plot.py'>\n",
      "sys               module              <module 'sys' (built-in)>\n",
      "xx                ndarray             1470: 1470 elems, type `float64`, 11760 bytes\n",
      "yy                ndarray             1470: 1470 elems, type `float64`, 11760 bytes\n"
     ]
    }
   ],
   "source": [
    "whos"
   ]
  },
  {
   "cell_type": "code",
   "execution_count": 7,
   "id": "dea3954c-0ab5-4698-af4b-a2627e6f6bbe",
   "metadata": {},
   "outputs": [
    {
     "data": {
      "text/html": [
       "<div>\n",
       "<style scoped>\n",
       "    .dataframe tbody tr th:only-of-type {\n",
       "        vertical-align: middle;\n",
       "    }\n",
       "\n",
       "    .dataframe tbody tr th {\n",
       "        vertical-align: top;\n",
       "    }\n",
       "\n",
       "    .dataframe thead th {\n",
       "        text-align: right;\n",
       "    }\n",
       "</style>\n",
       "<table border=\"1\" class=\"dataframe\">\n",
       "  <thead>\n",
       "    <tr style=\"text-align: right;\">\n",
       "      <th></th>\n",
       "      <th>X (mm)</th>\n",
       "      <th>Y (mm)</th>\n",
       "    </tr>\n",
       "    <tr>\n",
       "      <th>Ano</th>\n",
       "      <th></th>\n",
       "      <th></th>\n",
       "    </tr>\n",
       "  </thead>\n",
       "  <tbody>\n",
       "    <tr>\n",
       "      <th>1943</th>\n",
       "      <td>1562.86</td>\n",
       "      <td>1497.00</td>\n",
       "    </tr>\n",
       "    <tr>\n",
       "      <th>1944</th>\n",
       "      <td>1225.06</td>\n",
       "      <td>1243.00</td>\n",
       "    </tr>\n",
       "    <tr>\n",
       "      <th>1945</th>\n",
       "      <td>1379.33</td>\n",
       "      <td>1359.00</td>\n",
       "    </tr>\n",
       "    <tr>\n",
       "      <th>1946</th>\n",
       "      <td>1505.00</td>\n",
       "      <td>1493.00</td>\n",
       "    </tr>\n",
       "    <tr>\n",
       "      <th>1947</th>\n",
       "      <td>1634.00</td>\n",
       "      <td>1559.00</td>\n",
       "    </tr>\n",
       "    <tr>\n",
       "      <th>1948</th>\n",
       "      <td>1775.00</td>\n",
       "      <td>1671.00</td>\n",
       "    </tr>\n",
       "    <tr>\n",
       "      <th>1949</th>\n",
       "      <td>1421.00</td>\n",
       "      <td>1533.00</td>\n",
       "    </tr>\n",
       "    <tr>\n",
       "      <th>1950</th>\n",
       "      <td>1619.00</td>\n",
       "      <td>1539.21</td>\n",
       "    </tr>\n",
       "    <tr>\n",
       "      <th>1951</th>\n",
       "      <td>1304.00</td>\n",
       "      <td>1214.00</td>\n",
       "    </tr>\n",
       "    <tr>\n",
       "      <th>1952</th>\n",
       "      <td>1640.00</td>\n",
       "      <td>1384.00</td>\n",
       "    </tr>\n",
       "    <tr>\n",
       "      <th>1953</th>\n",
       "      <td>1569.00</td>\n",
       "      <td>1501.62</td>\n",
       "    </tr>\n",
       "    <tr>\n",
       "      <th>1954</th>\n",
       "      <td>2209.00</td>\n",
       "      <td>2158.00</td>\n",
       "    </tr>\n",
       "    <tr>\n",
       "      <th>1955</th>\n",
       "      <td>1393.00</td>\n",
       "      <td>1371.00</td>\n",
       "    </tr>\n",
       "    <tr>\n",
       "      <th>1956</th>\n",
       "      <td>2278.36</td>\n",
       "      <td>2035.00</td>\n",
       "    </tr>\n",
       "    <tr>\n",
       "      <th>1957</th>\n",
       "      <td>2090.00</td>\n",
       "      <td>2229.00</td>\n",
       "    </tr>\n",
       "    <tr>\n",
       "      <th>1958</th>\n",
       "      <td>2311.00</td>\n",
       "      <td>2189.00</td>\n",
       "    </tr>\n",
       "    <tr>\n",
       "      <th>1959</th>\n",
       "      <td>1638.00</td>\n",
       "      <td>1553.00</td>\n",
       "    </tr>\n",
       "    <tr>\n",
       "      <th>1960</th>\n",
       "      <td>1656.00</td>\n",
       "      <td>1567.03</td>\n",
       "    </tr>\n",
       "    <tr>\n",
       "      <th>1961</th>\n",
       "      <td>2167.00</td>\n",
       "      <td>1678.00</td>\n",
       "    </tr>\n",
       "    <tr>\n",
       "      <th>1962</th>\n",
       "      <td>2295.65</td>\n",
       "      <td>2048.00</td>\n",
       "    </tr>\n",
       "    <tr>\n",
       "      <th>1963</th>\n",
       "      <td>1981.00</td>\n",
       "      <td>1771.00</td>\n",
       "    </tr>\n",
       "    <tr>\n",
       "      <th>1964</th>\n",
       "      <td>1551.00</td>\n",
       "      <td>1191.00</td>\n",
       "    </tr>\n",
       "    <tr>\n",
       "      <th>1965</th>\n",
       "      <td>1781.00</td>\n",
       "      <td>1572.00</td>\n",
       "    </tr>\n",
       "    <tr>\n",
       "      <th>1966</th>\n",
       "      <td>1965.00</td>\n",
       "      <td>1666.00</td>\n",
       "    </tr>\n",
       "    <tr>\n",
       "      <th>1967</th>\n",
       "      <td>1342.00</td>\n",
       "      <td>1012.00</td>\n",
       "    </tr>\n",
       "    <tr>\n",
       "      <th>1968</th>\n",
       "      <td>841.00</td>\n",
       "      <td>1064.00</td>\n",
       "    </tr>\n",
       "    <tr>\n",
       "      <th>1969</th>\n",
       "      <td>1205.00</td>\n",
       "      <td>1349.00</td>\n",
       "    </tr>\n",
       "    <tr>\n",
       "      <th>1970</th>\n",
       "      <td>1287.00</td>\n",
       "      <td>1541.00</td>\n",
       "    </tr>\n",
       "    <tr>\n",
       "      <th>1971</th>\n",
       "      <td>1509.00</td>\n",
       "      <td>1539.00</td>\n",
       "    </tr>\n",
       "    <tr>\n",
       "      <th>1972</th>\n",
       "      <td>1664.00</td>\n",
       "      <td>1573.05</td>\n",
       "    </tr>\n",
       "    <tr>\n",
       "      <th>1973</th>\n",
       "      <td>2021.00</td>\n",
       "      <td>1841.48</td>\n",
       "    </tr>\n",
       "    <tr>\n",
       "      <th>1974</th>\n",
       "      <td>1906.00</td>\n",
       "      <td>1755.01</td>\n",
       "    </tr>\n",
       "    <tr>\n",
       "      <th>1975</th>\n",
       "      <td>1776.00</td>\n",
       "      <td>1657.26</td>\n",
       "    </tr>\n",
       "    <tr>\n",
       "      <th>1976</th>\n",
       "      <td>1925.00</td>\n",
       "      <td>1769.30</td>\n",
       "    </tr>\n",
       "  </tbody>\n",
       "</table>\n",
       "</div>"
      ],
      "text/plain": [
       "       X (mm)   Y (mm)\n",
       "Ano                   \n",
       "1943  1562.86  1497.00\n",
       "1944  1225.06  1243.00\n",
       "1945  1379.33  1359.00\n",
       "1946  1505.00  1493.00\n",
       "1947  1634.00  1559.00\n",
       "1948  1775.00  1671.00\n",
       "1949  1421.00  1533.00\n",
       "1950  1619.00  1539.21\n",
       "1951  1304.00  1214.00\n",
       "1952  1640.00  1384.00\n",
       "1953  1569.00  1501.62\n",
       "1954  2209.00  2158.00\n",
       "1955  1393.00  1371.00\n",
       "1956  2278.36  2035.00\n",
       "1957  2090.00  2229.00\n",
       "1958  2311.00  2189.00\n",
       "1959  1638.00  1553.00\n",
       "1960  1656.00  1567.03\n",
       "1961  2167.00  1678.00\n",
       "1962  2295.65  2048.00\n",
       "1963  1981.00  1771.00\n",
       "1964  1551.00  1191.00\n",
       "1965  1781.00  1572.00\n",
       "1966  1965.00  1666.00\n",
       "1967  1342.00  1012.00\n",
       "1968   841.00  1064.00\n",
       "1969  1205.00  1349.00\n",
       "1970  1287.00  1541.00\n",
       "1971  1509.00  1539.00\n",
       "1972  1664.00  1573.05\n",
       "1973  2021.00  1841.48\n",
       "1974  1906.00  1755.01\n",
       "1975  1776.00  1657.26\n",
       "1976  1925.00  1769.30"
      ]
     },
     "execution_count": 7,
     "metadata": {},
     "output_type": "execute_result"
    }
   ],
   "source": [
    "del xx, yy, reg"
   ]
  },
  {
   "cell_type": "markdown",
   "id": "e56c6911-cbfc-4970-8e37-2702419ce00d",
   "metadata": {
    "tags": []
   },
   "source": [
    "# Exercício 2"
   ]
  },
  {
   "cell_type": "markdown",
   "id": "58733bb6-a06a-4d2d-87e5-607c529423cb",
   "metadata": {},
   "source": [
    "A equação indicada a seguir, descreve as relações i-d-f de chuvas em um certo local. Utilizando o método do Bureau of Reclamation, determine os hietogramas de projeto para um sistema de esgotos pluviais da região próxima do local, para duas bacias com tempos de concentração iguais a 40 e 90 minutos, respectivamente. Utilizar tempo de recorrência de 10 anos.\n",
    "\n",
    "$$i = \\dfrac{1200 T^{0,12}}{(t + 20)^{0,70}}$$\n",
    "\n",
    "onde $t$ em minutos, $T$ em anos e $i$ em mm/h (exercício adaptado de Tucci, 1997)."
   ]
  },
  {
   "cell_type": "markdown",
   "id": "9f5ab07e-233b-47b0-8375-29810e65bdc0",
   "metadata": {
    "tags": []
   },
   "source": [
    "# Exercício 3"
   ]
  },
  {
   "cell_type": "markdown",
   "id": "0f05e177-e03f-4559-b0c1-81b72bb888fd",
   "metadata": {},
   "source": [
    "Dada uma bacia hidrográfica de forma circular com 314,16 km2 de área, determinar a chuva média de um episódio pluvial pelo método das isoietas, sabendo que o total precipitado na posição central da bacia foi de 100 mm, o mapa das isoietas é formado por círculos concêntricos de 2, 4, 6, 8 e 10 km de raio, correspondentes, respectivamente, a 80, 60, 40, 20 e 0 mm (exercício extraído de Úmbria e Zandonai, 1996)."
   ]
  },
  {
   "cell_type": "markdown",
   "id": "d489e241-ef0e-4acb-923c-004bc4df7b7a",
   "metadata": {},
   "source": [
    "Dada uma bacia hidrográfica de forma circular com 314,16 km2 de área, determinar a chuva média de um episódio pluvial pelo método das isoietas, sabendo que o total precipitado na posição central da bacia foi de 100 mm, o mapa das isoietas é formado por círculos concêntricos de 2, 4, 6, 8 e 10 km de raio, correspondentes, respectivamente, a 80, 60, 40, 20 e 0 mm (exercício extraído de Úmbria e Zandonai, 1996)."
   ]
  },
  {
   "cell_type": "markdown",
   "id": "b4b29c8b-abe8-4dd5-b1f4-5ac7f9f10bcf",
   "metadata": {},
   "source": [
    "# Exercício 4"
   ]
  },
  {
   "cell_type": "markdown",
   "id": "eb4ac633-31c6-4a71-8a45-6434b8ae6e19",
   "metadata": {},
   "source": [
    "Na verdade, a figura geométrica que produziu as isoietas do exercício anterior seria representada por uma série de cilindros concêntricos. Assim sendo, pode-se resolver o problema, imaginando-se que as isoietas são de milímetro em milímetro e não de 10 mm em 10 mm. Pode-se resolver, mais uma vez, com diferenças ainda menores entre as isoietas. No limite, qual o valor exato da precipitação média? (Supor que a variação da precipitação é linear) (exercício extraído de Úmbria e Zandonai, 1996)."
   ]
  },
  {
   "cell_type": "markdown",
   "id": "3a8df104-5438-441c-856e-3cbfcedd8616",
   "metadata": {
    "tags": []
   },
   "source": [
    "# Exercício 5"
   ]
  },
  {
   "cell_type": "markdown",
   "id": "ac7c7126-624f-41b5-8c59-d1233441f377",
   "metadata": {},
   "source": [
    "Calcule novamente a evapotranspiração potencial mensal e anual do exercício resolvido na aula  09, utilizando as equações de Serra, dadas a seguir, para a avaliação dos parâmetros $I$ e $a$ do método de Thornthwaite.\n",
    "$$\n",
    "    I = \\sum_{i=1}^{12} \\left( 0,09 t_i^{\\frac{3}{2}} \\right) \\ \\ \\ e \\ \\ \\ a = 0,016I + 0,5\n",
    "$$\n",
    "Comparar os resultados obtidos em sala e os obtidos por você na solução do exercício. Procure explicar as diferenças encontradas (exercício adaptado de Úmbria e Zandonai, 1996). "
   ]
  },
  {
   "cell_type": "markdown",
   "id": "08d0b763-1ea3-4c42-a3c5-f33c9451158a",
   "metadata": {},
   "source": [
    "| Mês       | T(°C) | N(h) | Mês      | T(°C) | N(h) |\n",
    "|-----------|-------|------|----------|-------|------|\n",
    "| Janeiro   | 23,9  | 13,3 | Julho    | 16,9  | 10,9 |\n",
    "| Fevereiro | 23,5  | 12,7 | Agosto   | 18,5  | 11,4 |\n",
    "| Março     | 22,4  | 11,6 | Setembro | 20,3  | 12,0 |\n",
    "| Abril     | 20,8  | 11,6 | Outubro  | 20,8  | 12,7 |\n",
    "| Maio      | 17,0  | 11,0 | Novembro | 23,1  | 13,2 |\n",
    "| Junho     | 16,0  | 10,7 | Dezembro | 23,0  | 13,6 |"
   ]
  },
  {
   "cell_type": "markdown",
   "id": "3ff5006f-2b6b-41d1-95fb-7eaffe83d5a2",
   "metadata": {
    "jp-MarkdownHeadingCollapsed": true,
    "tags": []
   },
   "source": [
    "## Resolução"
   ]
  },
  {
   "cell_type": "markdown",
   "id": "67cf2ccc-e256-49be-8452-847154cf3f3e",
   "metadata": {
    "tags": []
   },
   "source": [
    "### Entradas"
   ]
  },
  {
   "cell_type": "code",
   "execution_count": 8,
   "id": "72ddeb1f-68f6-4856-8ba4-921ce7d1fc45",
   "metadata": {},
   "outputs": [],
   "source": [
    "e_05_T = np.array([\n",
    "    23.9, 23.5, 22.4, 20.8, 17. , 16. , 16.9, 18.5, 20.3, 20.8, 23.1, 23. ,\n",
    "])\n",
    "e_05_N = np.array([\n",
    "    13.3, 12.7, 11.6, 11.6, 11. , 10.7, 10.9, 11.4, 12. , 12.7, 13.2, 13.6,\n",
    "])"
   ]
  },
  {
   "cell_type": "markdown",
   "id": "a4849a70-658c-4641-9d9a-7c84dce23557",
   "metadata": {
    "jp-MarkdownHeadingCollapsed": true,
    "tags": []
   },
   "source": [
    "### Método de Thornthwaite"
   ]
  },
  {
   "cell_type": "code",
   "execution_count": 9,
   "id": "581b2e2e-94ec-4cec-ab69-e3e17e3dea2b",
   "metadata": {},
   "outputs": [],
   "source": [
    "e_05_EVTp, e_05_I, e_05_a = hydro.thornthwaite(e_05_T, e_05_N, serra=True)"
   ]
  },
  {
   "cell_type": "code",
   "execution_count": 10,
   "id": "4148e6fd-0dbf-49fd-bde3-ee24d38e6f6c",
   "metadata": {
    "tags": []
   },
   "outputs": [],
   "source": [
    "e_05_data = {\n",
    "    \"T (°C)\" : e_05_T,\n",
    "    \"N (h)\" : e_05_N,\n",
    "    \"EVTp (mm)\" : e_05_EVTp.round(1),\n",
    "}\n",
    "e_05_data = pd.DataFrame(\n",
    "    data=e_05_data, index=[\"Jan\", \"Fev\", \"Mar\", \"Abr\", \"Mai\", \"Jun\",\n",
    "                           \"Jul\", \"Ago\", \"Set\", \"Out\", \"Nov\", \"Dez\"]\n",
    ")"
   ]
  },
  {
   "cell_type": "code",
   "execution_count": 11,
   "id": "9088258e-5f64-4323-aa20-1b5a7bd24b50",
   "metadata": {},
   "outputs": [
    {
     "name": "stdout",
     "output_type": "stream",
     "text": [
      "     T (°C)  N (h)  EVTp (mm)\n",
      "Jan    23.9   13.3      114.8\n",
      "Fev    23.5   12.7       95.5\n",
      "Mar    22.4   11.6       87.3\n",
      "Abr    20.8   11.6       72.2\n",
      "Mai    17.0   11.0       46.2\n",
      "Jun    16.0   10.7       38.2\n",
      "Jul    16.9   10.9       45.2\n",
      "Ago    18.5   11.4       57.2\n",
      "Set    20.3   12.0       70.9\n",
      "Out    20.8   12.7       81.7\n",
      "Nov    23.1   13.2      102.6\n",
      "Dez    23.0   13.6      108.2\n",
      "a = 2.12\n",
      "I = 101.02\n"
     ]
    }
   ],
   "source": [
    "print(e_05_data)\n",
    "print(\"a =\", e_05_a.round(2))\n",
    "print(\"I =\", e_05_I.round(2))"
   ]
  },
  {
   "cell_type": "markdown",
   "id": "3e51f1ad-2d43-433e-bbed-8818b071965d",
   "metadata": {
    "tags": []
   },
   "source": [
    "# Exercício 6"
   ]
  },
  {
   "cell_type": "markdown",
   "id": "0fd041dd-369a-4179-9485-2f2ae82dcf12",
   "metadata": {},
   "source": [
    "Refaça o exemplo da aula 09 (método de Thornthwaite), substituindo a temperatura média mensal em cada mês pela temperatura média anual. Compare os resultados btidos com o exemplo resolvido na referida aula, relativamente às evapotranspirações médias mensais e a evapotranspiração média anual. "
   ]
  },
  {
   "cell_type": "markdown",
   "id": "b33c5edc-c2e8-4b5c-8f64-0a27d8c6802f",
   "metadata": {
    "tags": []
   },
   "source": [
    "## Resolução"
   ]
  },
  {
   "cell_type": "markdown",
   "id": "d6aa5415-6caa-4a51-91cc-039753ca2a85",
   "metadata": {
    "jp-MarkdownHeadingCollapsed": true,
    "tags": []
   },
   "source": [
    "### Entradas"
   ]
  },
  {
   "cell_type": "code",
   "execution_count": 12,
   "id": "5c1c01c0-d246-4037-84fc-64aac48ea937",
   "metadata": {},
   "outputs": [],
   "source": [
    "e_06_T = np.array([\n",
    "    23.9, 23.5, 22.4, 20.8, 17. , 16. , 16.9, 18.5, 20.3, 20.8, 23.1, 23. ,\n",
    "])\n",
    "e_06_T = e_06_T.mean() * np.ones(12)\n",
    "\n",
    "e_06_N = np.array([\n",
    "    13.3, 12.7, 11.6, 11.6, 11. , 10.7, 10.9, 11.4, 12. , 12.7, 13.2, 13.6,\n",
    "])"
   ]
  },
  {
   "cell_type": "markdown",
   "id": "ef758266-a928-4405-9fe0-4ce535c27b57",
   "metadata": {
    "tags": []
   },
   "source": [
    "### Método de Thornthwaite"
   ]
  },
  {
   "cell_type": "code",
   "execution_count": 13,
   "id": "7e88bd6d-4e25-44bf-bbd7-5f70e8137001",
   "metadata": {},
   "outputs": [],
   "source": [
    "e_06_EVTp, e_06_I, e_06_a = hydro.thornthwaite(e_06_T, e_06_N)"
   ]
  },
  {
   "cell_type": "code",
   "execution_count": 14,
   "id": "371fe423-6daa-4a7e-b781-714754c3f26d",
   "metadata": {
    "tags": []
   },
   "outputs": [],
   "source": [
    "e_06_data = {\n",
    "    \"T (°C)\" : e_06_T.round(1),\n",
    "    \"N (h)\" : e_06_N,\n",
    "    \"EVTp (mm)\" : e_06_EVTp.round(1),\n",
    "}\n",
    "e_06_data = pd.DataFrame(\n",
    "    data=e_06_data, index=[\"Jan\", \"Fev\", \"Mar\", \"Abr\", \"Mai\", \"Jun\",\n",
    "                           \"Jul\", \"Ago\", \"Set\", \"Out\", \"Nov\", \"Dez\"]\n",
    ")"
   ]
  },
  {
   "cell_type": "code",
   "execution_count": 15,
   "id": "34cedfb5-648b-4f7f-aed7-b73336b0d851",
   "metadata": {},
   "outputs": [
    {
     "data": {
      "text/html": [
       "<div>\n",
       "<style scoped>\n",
       "    .dataframe tbody tr th:only-of-type {\n",
       "        vertical-align: middle;\n",
       "    }\n",
       "\n",
       "    .dataframe tbody tr th {\n",
       "        vertical-align: top;\n",
       "    }\n",
       "\n",
       "    .dataframe thead th {\n",
       "        text-align: right;\n",
       "    }\n",
       "</style>\n",
       "<table border=\"1\" class=\"dataframe\">\n",
       "  <thead>\n",
       "    <tr style=\"text-align: right;\">\n",
       "      <th></th>\n",
       "      <th>T (°C)</th>\n",
       "      <th>N (h)</th>\n",
       "      <th>EVTp (mm)</th>\n",
       "    </tr>\n",
       "  </thead>\n",
       "  <tbody>\n",
       "    <tr>\n",
       "      <th>Jan</th>\n",
       "      <td>20.5</td>\n",
       "      <td>13.3</td>\n",
       "      <td>88.4</td>\n",
       "    </tr>\n",
       "    <tr>\n",
       "      <th>Fev</th>\n",
       "      <td>20.5</td>\n",
       "      <td>12.7</td>\n",
       "      <td>76.2</td>\n",
       "    </tr>\n",
       "    <tr>\n",
       "      <th>Mar</th>\n",
       "      <td>20.5</td>\n",
       "      <td>11.6</td>\n",
       "      <td>77.1</td>\n",
       "    </tr>\n",
       "    <tr>\n",
       "      <th>Abr</th>\n",
       "      <td>20.5</td>\n",
       "      <td>11.6</td>\n",
       "      <td>74.6</td>\n",
       "    </tr>\n",
       "    <tr>\n",
       "      <th>Mai</th>\n",
       "      <td>20.5</td>\n",
       "      <td>11.0</td>\n",
       "      <td>73.1</td>\n",
       "    </tr>\n",
       "    <tr>\n",
       "      <th>Jun</th>\n",
       "      <td>20.5</td>\n",
       "      <td>10.7</td>\n",
       "      <td>68.8</td>\n",
       "    </tr>\n",
       "    <tr>\n",
       "      <th>Jul</th>\n",
       "      <td>20.5</td>\n",
       "      <td>10.9</td>\n",
       "      <td>72.5</td>\n",
       "    </tr>\n",
       "    <tr>\n",
       "      <th>Ago</th>\n",
       "      <td>20.5</td>\n",
       "      <td>11.4</td>\n",
       "      <td>75.8</td>\n",
       "    </tr>\n",
       "    <tr>\n",
       "      <th>Set</th>\n",
       "      <td>20.5</td>\n",
       "      <td>12.0</td>\n",
       "      <td>77.2</td>\n",
       "    </tr>\n",
       "    <tr>\n",
       "      <th>Out</th>\n",
       "      <td>20.5</td>\n",
       "      <td>12.7</td>\n",
       "      <td>84.4</td>\n",
       "    </tr>\n",
       "    <tr>\n",
       "      <th>Nov</th>\n",
       "      <td>20.5</td>\n",
       "      <td>13.2</td>\n",
       "      <td>84.9</td>\n",
       "    </tr>\n",
       "    <tr>\n",
       "      <th>Dez</th>\n",
       "      <td>20.5</td>\n",
       "      <td>13.6</td>\n",
       "      <td>90.4</td>\n",
       "    </tr>\n",
       "  </tbody>\n",
       "</table>\n",
       "</div>"
      ],
      "text/plain": [
       "     T (°C)  N (h)  EVTp (mm)\n",
       "Jan    20.5   13.3       88.4\n",
       "Fev    20.5   12.7       76.2\n",
       "Mar    20.5   11.6       77.1\n",
       "Abr    20.5   11.6       74.6\n",
       "Mai    20.5   11.0       73.1\n",
       "Jun    20.5   10.7       68.8\n",
       "Jul    20.5   10.9       72.5\n",
       "Ago    20.5   11.4       75.8\n",
       "Set    20.5   12.0       77.2\n",
       "Out    20.5   12.7       84.4\n",
       "Nov    20.5   13.2       84.9\n",
       "Dez    20.5   13.6       90.4"
      ]
     },
     "execution_count": 15,
     "metadata": {},
     "output_type": "execute_result"
    }
   ],
   "source": [
    "e_06_data"
   ]
  },
  {
   "cell_type": "code",
   "execution_count": 16,
   "id": "00fca2c2-792f-455b-a79e-7e65fa42615e",
   "metadata": {},
   "outputs": [
    {
     "name": "stdout",
     "output_type": "stream",
     "text": [
      "a = 2.23\n",
      "I = 101.73\n"
     ]
    }
   ],
   "source": [
    "print(\"a =\", e_06_a.round(2))\n",
    "print(\"I =\", e_06_I.round(2))"
   ]
  },
  {
   "cell_type": "code",
   "execution_count": null,
   "id": "17ce3445-9fc0-4922-b721-63a0ca43e64a",
   "metadata": {},
   "outputs": [],
   "source": []
  },
  {
   "cell_type": "code",
   "execution_count": null,
   "id": "bbbd0083-b9ed-4a04-b9b0-35b7d0bc6bf4",
   "metadata": {},
   "outputs": [],
   "source": []
  }
 ],
 "metadata": {
  "kernelspec": {
   "display_name": "Python 3 (ipykernel)",
   "language": "python",
   "name": "python3"
  },
  "language_info": {
   "codemirror_mode": {
    "name": "ipython",
    "version": 3
   },
   "file_extension": ".py",
   "mimetype": "text/x-python",
   "name": "python",
   "nbconvert_exporter": "python",
   "pygments_lexer": "ipython3",
   "version": "3.9.7"
  }
 },
 "nbformat": 4,
 "nbformat_minor": 5
}
